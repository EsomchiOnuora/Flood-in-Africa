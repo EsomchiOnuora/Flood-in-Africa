{
 "cells": [
  {
   "cell_type": "code",
   "id": "05e95ff8",
   "metadata": {
    "ExecuteTime": {
     "end_time": "2025-06-03T06:42:00.405134Z",
     "start_time": "2025-06-03T06:42:00.399232Z"
    }
   },
   "source": [
    "#importing necessary libraries for this analysis\n",
    "import pandas as pd\n",
    "import numpy as np\n",
    "import matplotlib.pyplot as plt\n",
    "import plotly.express as px"
   ],
   "outputs": [],
   "execution_count": 4
  },
  {
   "metadata": {
    "ExecuteTime": {
     "end_time": "2025-06-03T06:42:02.316929Z",
     "start_time": "2025-06-03T06:42:01.618964Z"
    }
   },
   "cell_type": "code",
   "source": [
    "#reading an excel dataset for the analysis and displaying first 10 rows\n",
    "df = pd.read_excel(\"project_flood_dataset_sub-sahara_africa.xlsx\")\n",
    "df.head(10)"
   ],
   "id": "633e2bf8347a2a3f",
   "outputs": [
    {
     "data": {
      "text/plain": [
       "          DisNo. Historic Classification Key Disaster Group Disaster Subgroup  \\\n",
       "0  2000-0079-NAM       No    nat-hyd-flo-flo        Natural      Hydrological   \n",
       "1  2000-0118-MWI       No    nat-hyd-flo-flo        Natural      Hydrological   \n",
       "2  2000-0152-AGO       No    nat-hyd-flo-flo        Natural      Hydrological   \n",
       "3  2000-0193-AGO       No    nat-hyd-flo-flo        Natural      Hydrological   \n",
       "4  2000-0260-AGO       No    nat-hyd-flo-flo        Natural      Hydrological   \n",
       "5  2000-0364-NGA       No    nat-hyd-flo-flo        Natural      Hydrological   \n",
       "6  2000-0399-ETH       No    nat-hyd-flo-flo        Natural      Hydrological   \n",
       "7  2000-0490-SOM       No    nat-hyd-flo-flo        Natural      Hydrological   \n",
       "8  2000-0501-NER       No    nat-hyd-flo-flo        Natural      Hydrological   \n",
       "9  2000-0511-NGA       No    nat-hyd-flo-flo        Natural      Hydrological   \n",
       "\n",
       "  Disaster Type Disaster Subtype External IDs Event Name  ISO  ...  \\\n",
       "0         Flood  Flood (General)          NaN        NaN  NAM  ...   \n",
       "1         Flood  Flood (General)          NaN        NaN  MWI  ...   \n",
       "2         Flood  Flood (General)          NaN        NaN  AGO  ...   \n",
       "3         Flood  Flood (General)          NaN        NaN  AGO  ...   \n",
       "4         Flood  Flood (General)          NaN        NaN  AGO  ...   \n",
       "5         Flood  Flood (General)          NaN        NaN  NGA  ...   \n",
       "6         Flood  Flood (General)          NaN        NaN  ETH  ...   \n",
       "7         Flood  Flood (General)          NaN        NaN  SOM  ...   \n",
       "8         Flood  Flood (General)          NaN        NaN  NER  ...   \n",
       "9         Flood  Flood (General)          NaN        NaN  NGA  ...   \n",
       "\n",
       "  Reconstruction Costs ('000 US$) Reconstruction Costs, Adjusted ('000 US$)  \\\n",
       "0                             NaN                                       NaN   \n",
       "1                             NaN                                       NaN   \n",
       "2                             NaN                                       NaN   \n",
       "3                             NaN                                       NaN   \n",
       "4                             NaN                                       NaN   \n",
       "5                             NaN                                       NaN   \n",
       "6                             NaN                                       NaN   \n",
       "7                             NaN                                       NaN   \n",
       "8                             NaN                                       NaN   \n",
       "9                             NaN                                       NaN   \n",
       "\n",
       "  Insured Damage ('000 US$) Insured Damage, Adjusted ('000 US$)  \\\n",
       "0                       NaN                                 NaN   \n",
       "1                       NaN                                 NaN   \n",
       "2                       NaN                                 NaN   \n",
       "3                       NaN                                 NaN   \n",
       "4                       NaN                                 NaN   \n",
       "5                       NaN                                 NaN   \n",
       "6                       NaN                                 NaN   \n",
       "7                       NaN                                 NaN   \n",
       "8                       NaN                                 NaN   \n",
       "9                       NaN                                 NaN   \n",
       "\n",
       "  Total Damage ('000 US$) Total Damage, Adjusted ('000 US$)        CPI  \\\n",
       "0                     NaN                               NaN  54.895152   \n",
       "1                  1000.0                            1822.0  54.895152   \n",
       "2                     NaN                               NaN  54.895152   \n",
       "3                     NaN                               NaN  54.895152   \n",
       "4                     NaN                               NaN  54.895152   \n",
       "5                     NaN                               NaN  54.895152   \n",
       "6                     NaN                               NaN  54.895152   \n",
       "7                     NaN                               NaN  54.895152   \n",
       "8                     NaN                               NaN  54.895152   \n",
       "9                     NaN                               NaN  54.895152   \n",
       "\n",
       "                                         Admin Units  Entry Date  Last Update  \n",
       "0  [{\"adm2_code\":22261,\"adm2_name\":\"Mariental Rur...  2003-07-01   2023-09-25  \n",
       "1  [{\"adm2_code\":19312,\"adm2_name\":\"Nkhotakota\"},...  2003-07-01   2023-09-25  \n",
       "2           [{\"adm2_code\":4208,\"adm2_name\":\"Dande\"}]  2003-07-01   2023-09-25  \n",
       "3    [{\"adm2_code\":4251,\"adm2_name\":\"Porto Amboim\"}]  2003-07-01   2023-09-25  \n",
       "4           [{\"adm2_code\":4221,\"adm2_name\":\"Ganda\"}]  2003-07-01   2023-09-25  \n",
       "5  [{\"adm2_code\":190962,\"adm2_name\":\"Sokoto North...  2003-07-01   2023-09-25  \n",
       "6  [{\"adm2_code\":149277,\"adm2_name\":\"Region 14\"},...  2003-07-01   2023-09-25  \n",
       "7        [{\"adm2_code\":25672,\"adm2_name\":\"Banadir\"}]  2003-07-01   2023-09-25  \n",
       "8  [{\"adm1_code\":2204,\"adm1_name\":\"Dosso\"},{\"adm1...  2003-07-01   2023-09-25  \n",
       "9     [{\"adm1_code\":2217,\"adm1_name\":\"Cross River\"}]  2003-07-01   2023-09-25  \n",
       "\n",
       "[10 rows x 46 columns]"
      ],
      "text/html": [
       "<div>\n",
       "<style scoped>\n",
       "    .dataframe tbody tr th:only-of-type {\n",
       "        vertical-align: middle;\n",
       "    }\n",
       "\n",
       "    .dataframe tbody tr th {\n",
       "        vertical-align: top;\n",
       "    }\n",
       "\n",
       "    .dataframe thead th {\n",
       "        text-align: right;\n",
       "    }\n",
       "</style>\n",
       "<table border=\"1\" class=\"dataframe\">\n",
       "  <thead>\n",
       "    <tr style=\"text-align: right;\">\n",
       "      <th></th>\n",
       "      <th>DisNo.</th>\n",
       "      <th>Historic</th>\n",
       "      <th>Classification Key</th>\n",
       "      <th>Disaster Group</th>\n",
       "      <th>Disaster Subgroup</th>\n",
       "      <th>Disaster Type</th>\n",
       "      <th>Disaster Subtype</th>\n",
       "      <th>External IDs</th>\n",
       "      <th>Event Name</th>\n",
       "      <th>ISO</th>\n",
       "      <th>...</th>\n",
       "      <th>Reconstruction Costs ('000 US$)</th>\n",
       "      <th>Reconstruction Costs, Adjusted ('000 US$)</th>\n",
       "      <th>Insured Damage ('000 US$)</th>\n",
       "      <th>Insured Damage, Adjusted ('000 US$)</th>\n",
       "      <th>Total Damage ('000 US$)</th>\n",
       "      <th>Total Damage, Adjusted ('000 US$)</th>\n",
       "      <th>CPI</th>\n",
       "      <th>Admin Units</th>\n",
       "      <th>Entry Date</th>\n",
       "      <th>Last Update</th>\n",
       "    </tr>\n",
       "  </thead>\n",
       "  <tbody>\n",
       "    <tr>\n",
       "      <th>0</th>\n",
       "      <td>2000-0079-NAM</td>\n",
       "      <td>No</td>\n",
       "      <td>nat-hyd-flo-flo</td>\n",
       "      <td>Natural</td>\n",
       "      <td>Hydrological</td>\n",
       "      <td>Flood</td>\n",
       "      <td>Flood (General)</td>\n",
       "      <td>NaN</td>\n",
       "      <td>NaN</td>\n",
       "      <td>NAM</td>\n",
       "      <td>...</td>\n",
       "      <td>NaN</td>\n",
       "      <td>NaN</td>\n",
       "      <td>NaN</td>\n",
       "      <td>NaN</td>\n",
       "      <td>NaN</td>\n",
       "      <td>NaN</td>\n",
       "      <td>54.895152</td>\n",
       "      <td>[{\"adm2_code\":22261,\"adm2_name\":\"Mariental Rur...</td>\n",
       "      <td>2003-07-01</td>\n",
       "      <td>2023-09-25</td>\n",
       "    </tr>\n",
       "    <tr>\n",
       "      <th>1</th>\n",
       "      <td>2000-0118-MWI</td>\n",
       "      <td>No</td>\n",
       "      <td>nat-hyd-flo-flo</td>\n",
       "      <td>Natural</td>\n",
       "      <td>Hydrological</td>\n",
       "      <td>Flood</td>\n",
       "      <td>Flood (General)</td>\n",
       "      <td>NaN</td>\n",
       "      <td>NaN</td>\n",
       "      <td>MWI</td>\n",
       "      <td>...</td>\n",
       "      <td>NaN</td>\n",
       "      <td>NaN</td>\n",
       "      <td>NaN</td>\n",
       "      <td>NaN</td>\n",
       "      <td>1000.0</td>\n",
       "      <td>1822.0</td>\n",
       "      <td>54.895152</td>\n",
       "      <td>[{\"adm2_code\":19312,\"adm2_name\":\"Nkhotakota\"},...</td>\n",
       "      <td>2003-07-01</td>\n",
       "      <td>2023-09-25</td>\n",
       "    </tr>\n",
       "    <tr>\n",
       "      <th>2</th>\n",
       "      <td>2000-0152-AGO</td>\n",
       "      <td>No</td>\n",
       "      <td>nat-hyd-flo-flo</td>\n",
       "      <td>Natural</td>\n",
       "      <td>Hydrological</td>\n",
       "      <td>Flood</td>\n",
       "      <td>Flood (General)</td>\n",
       "      <td>NaN</td>\n",
       "      <td>NaN</td>\n",
       "      <td>AGO</td>\n",
       "      <td>...</td>\n",
       "      <td>NaN</td>\n",
       "      <td>NaN</td>\n",
       "      <td>NaN</td>\n",
       "      <td>NaN</td>\n",
       "      <td>NaN</td>\n",
       "      <td>NaN</td>\n",
       "      <td>54.895152</td>\n",
       "      <td>[{\"adm2_code\":4208,\"adm2_name\":\"Dande\"}]</td>\n",
       "      <td>2003-07-01</td>\n",
       "      <td>2023-09-25</td>\n",
       "    </tr>\n",
       "    <tr>\n",
       "      <th>3</th>\n",
       "      <td>2000-0193-AGO</td>\n",
       "      <td>No</td>\n",
       "      <td>nat-hyd-flo-flo</td>\n",
       "      <td>Natural</td>\n",
       "      <td>Hydrological</td>\n",
       "      <td>Flood</td>\n",
       "      <td>Flood (General)</td>\n",
       "      <td>NaN</td>\n",
       "      <td>NaN</td>\n",
       "      <td>AGO</td>\n",
       "      <td>...</td>\n",
       "      <td>NaN</td>\n",
       "      <td>NaN</td>\n",
       "      <td>NaN</td>\n",
       "      <td>NaN</td>\n",
       "      <td>NaN</td>\n",
       "      <td>NaN</td>\n",
       "      <td>54.895152</td>\n",
       "      <td>[{\"adm2_code\":4251,\"adm2_name\":\"Porto Amboim\"}]</td>\n",
       "      <td>2003-07-01</td>\n",
       "      <td>2023-09-25</td>\n",
       "    </tr>\n",
       "    <tr>\n",
       "      <th>4</th>\n",
       "      <td>2000-0260-AGO</td>\n",
       "      <td>No</td>\n",
       "      <td>nat-hyd-flo-flo</td>\n",
       "      <td>Natural</td>\n",
       "      <td>Hydrological</td>\n",
       "      <td>Flood</td>\n",
       "      <td>Flood (General)</td>\n",
       "      <td>NaN</td>\n",
       "      <td>NaN</td>\n",
       "      <td>AGO</td>\n",
       "      <td>...</td>\n",
       "      <td>NaN</td>\n",
       "      <td>NaN</td>\n",
       "      <td>NaN</td>\n",
       "      <td>NaN</td>\n",
       "      <td>NaN</td>\n",
       "      <td>NaN</td>\n",
       "      <td>54.895152</td>\n",
       "      <td>[{\"adm2_code\":4221,\"adm2_name\":\"Ganda\"}]</td>\n",
       "      <td>2003-07-01</td>\n",
       "      <td>2023-09-25</td>\n",
       "    </tr>\n",
       "    <tr>\n",
       "      <th>5</th>\n",
       "      <td>2000-0364-NGA</td>\n",
       "      <td>No</td>\n",
       "      <td>nat-hyd-flo-flo</td>\n",
       "      <td>Natural</td>\n",
       "      <td>Hydrological</td>\n",
       "      <td>Flood</td>\n",
       "      <td>Flood (General)</td>\n",
       "      <td>NaN</td>\n",
       "      <td>NaN</td>\n",
       "      <td>NGA</td>\n",
       "      <td>...</td>\n",
       "      <td>NaN</td>\n",
       "      <td>NaN</td>\n",
       "      <td>NaN</td>\n",
       "      <td>NaN</td>\n",
       "      <td>NaN</td>\n",
       "      <td>NaN</td>\n",
       "      <td>54.895152</td>\n",
       "      <td>[{\"adm2_code\":190962,\"adm2_name\":\"Sokoto North...</td>\n",
       "      <td>2003-07-01</td>\n",
       "      <td>2023-09-25</td>\n",
       "    </tr>\n",
       "    <tr>\n",
       "      <th>6</th>\n",
       "      <td>2000-0399-ETH</td>\n",
       "      <td>No</td>\n",
       "      <td>nat-hyd-flo-flo</td>\n",
       "      <td>Natural</td>\n",
       "      <td>Hydrological</td>\n",
       "      <td>Flood</td>\n",
       "      <td>Flood (General)</td>\n",
       "      <td>NaN</td>\n",
       "      <td>NaN</td>\n",
       "      <td>ETH</td>\n",
       "      <td>...</td>\n",
       "      <td>NaN</td>\n",
       "      <td>NaN</td>\n",
       "      <td>NaN</td>\n",
       "      <td>NaN</td>\n",
       "      <td>NaN</td>\n",
       "      <td>NaN</td>\n",
       "      <td>54.895152</td>\n",
       "      <td>[{\"adm2_code\":149277,\"adm2_name\":\"Region 14\"},...</td>\n",
       "      <td>2003-07-01</td>\n",
       "      <td>2023-09-25</td>\n",
       "    </tr>\n",
       "    <tr>\n",
       "      <th>7</th>\n",
       "      <td>2000-0490-SOM</td>\n",
       "      <td>No</td>\n",
       "      <td>nat-hyd-flo-flo</td>\n",
       "      <td>Natural</td>\n",
       "      <td>Hydrological</td>\n",
       "      <td>Flood</td>\n",
       "      <td>Flood (General)</td>\n",
       "      <td>NaN</td>\n",
       "      <td>NaN</td>\n",
       "      <td>SOM</td>\n",
       "      <td>...</td>\n",
       "      <td>NaN</td>\n",
       "      <td>NaN</td>\n",
       "      <td>NaN</td>\n",
       "      <td>NaN</td>\n",
       "      <td>NaN</td>\n",
       "      <td>NaN</td>\n",
       "      <td>54.895152</td>\n",
       "      <td>[{\"adm2_code\":25672,\"adm2_name\":\"Banadir\"}]</td>\n",
       "      <td>2003-07-01</td>\n",
       "      <td>2023-09-25</td>\n",
       "    </tr>\n",
       "    <tr>\n",
       "      <th>8</th>\n",
       "      <td>2000-0501-NER</td>\n",
       "      <td>No</td>\n",
       "      <td>nat-hyd-flo-flo</td>\n",
       "      <td>Natural</td>\n",
       "      <td>Hydrological</td>\n",
       "      <td>Flood</td>\n",
       "      <td>Flood (General)</td>\n",
       "      <td>NaN</td>\n",
       "      <td>NaN</td>\n",
       "      <td>NER</td>\n",
       "      <td>...</td>\n",
       "      <td>NaN</td>\n",
       "      <td>NaN</td>\n",
       "      <td>NaN</td>\n",
       "      <td>NaN</td>\n",
       "      <td>NaN</td>\n",
       "      <td>NaN</td>\n",
       "      <td>54.895152</td>\n",
       "      <td>[{\"adm1_code\":2204,\"adm1_name\":\"Dosso\"},{\"adm1...</td>\n",
       "      <td>2003-07-01</td>\n",
       "      <td>2023-09-25</td>\n",
       "    </tr>\n",
       "    <tr>\n",
       "      <th>9</th>\n",
       "      <td>2000-0511-NGA</td>\n",
       "      <td>No</td>\n",
       "      <td>nat-hyd-flo-flo</td>\n",
       "      <td>Natural</td>\n",
       "      <td>Hydrological</td>\n",
       "      <td>Flood</td>\n",
       "      <td>Flood (General)</td>\n",
       "      <td>NaN</td>\n",
       "      <td>NaN</td>\n",
       "      <td>NGA</td>\n",
       "      <td>...</td>\n",
       "      <td>NaN</td>\n",
       "      <td>NaN</td>\n",
       "      <td>NaN</td>\n",
       "      <td>NaN</td>\n",
       "      <td>NaN</td>\n",
       "      <td>NaN</td>\n",
       "      <td>54.895152</td>\n",
       "      <td>[{\"adm1_code\":2217,\"adm1_name\":\"Cross River\"}]</td>\n",
       "      <td>2003-07-01</td>\n",
       "      <td>2023-09-25</td>\n",
       "    </tr>\n",
       "  </tbody>\n",
       "</table>\n",
       "<p>10 rows × 46 columns</p>\n",
       "</div>"
      ]
     },
     "execution_count": 5,
     "metadata": {},
     "output_type": "execute_result"
    }
   ],
   "execution_count": 5
  },
  {
   "metadata": {
    "ExecuteTime": {
     "end_time": "2025-06-03T06:42:05.745959Z",
     "start_time": "2025-06-03T06:42:05.719354Z"
    }
   },
   "cell_type": "code",
   "source": [
    "#Checking for duplicates\n",
    "df.duplicated()"
   ],
   "id": "4cdee7a900aa03be",
   "outputs": [
    {
     "data": {
      "text/plain": [
       "0      False\n",
       "1      False\n",
       "2      False\n",
       "3      False\n",
       "4      False\n",
       "       ...  \n",
       "201    False\n",
       "202    False\n",
       "203    False\n",
       "204    False\n",
       "205    False\n",
       "Length: 206, dtype: bool"
      ]
     },
     "execution_count": 6,
     "metadata": {},
     "output_type": "execute_result"
    }
   ],
   "execution_count": 6
  },
  {
   "metadata": {
    "ExecuteTime": {
     "end_time": "2025-06-03T06:42:10.215828Z",
     "start_time": "2025-06-03T06:42:10.204823Z"
    }
   },
   "cell_type": "code",
   "source": [
    "#checking for null values\n",
    "df.isnull().sum()"
   ],
   "id": "2322e5ff3edfce6e",
   "outputs": [
    {
     "data": {
      "text/plain": [
       "DisNo.                                         0\n",
       "Historic                                       0\n",
       "Classification Key                             0\n",
       "Disaster Group                                 0\n",
       "Disaster Subgroup                              0\n",
       "Disaster Type                                  0\n",
       "Disaster Subtype                               0\n",
       "External IDs                                 136\n",
       "Event Name                                   204\n",
       "ISO                                            0\n",
       "Country                                        0\n",
       "Subregion                                      0\n",
       "Region                                         0\n",
       "Location                                       1\n",
       "Origin                                        76\n",
       "Associated Types                             172\n",
       "OFDA/BHA Response                              0\n",
       "Appeal                                         0\n",
       "Declaration                                    0\n",
       "AID Contribution ('000 US$)                  205\n",
       "Magnitude                                    163\n",
       "Magnitude Scale                                0\n",
       "Latitude                                     165\n",
       "Longitude                                    165\n",
       "River Basin                                  174\n",
       "Start Year                                     0\n",
       "Start Month                                    0\n",
       "Start Day                                     39\n",
       "End Year                                       0\n",
       "End Month                                      0\n",
       "End Day                                       34\n",
       "Total Deaths                                  69\n",
       "No. Injured                                  165\n",
       "No. Affected                                  56\n",
       "No. Homeless                                 168\n",
       "Total Affected                                23\n",
       "Reconstruction Costs ('000 US$)              205\n",
       "Reconstruction Costs, Adjusted ('000 US$)    205\n",
       "Insured Damage ('000 US$)                    205\n",
       "Insured Damage, Adjusted ('000 US$)          205\n",
       "Total Damage ('000 US$)                      185\n",
       "Total Damage, Adjusted ('000 US$)            185\n",
       "CPI                                            0\n",
       "Admin Units                                    2\n",
       "Entry Date                                     0\n",
       "Last Update                                    0\n",
       "dtype: int64"
      ]
     },
     "execution_count": 7,
     "metadata": {},
     "output_type": "execute_result"
    }
   ],
   "execution_count": 7
  },
  {
   "metadata": {
    "ExecuteTime": {
     "end_time": "2025-06-03T06:42:13.017830Z",
     "start_time": "2025-06-03T06:42:13.011177Z"
    }
   },
   "cell_type": "code",
   "source": [
    "#dropping completely all empty columns\n",
    "df=df.drop(columns=[\"Classification Key\", \"Disaster Subtype\", \"External IDs\", \"Event Name\", \"AID Contribution ('000 US$)\", \"Magnitude\",\"Magnitude Scale\", \"Latitude\", \"Longitude\", \"Reconstruction Costs ('000 US$)\", \"Reconstruction Costs, Adjusted ('000 US$)\", \"Insured Damage ('000 US$)\", \"Insured Damage, Adjusted ('000 US$)\", \"Total Damage ('000 US$)\", \"Total Damage, Adjusted ('000 US$)\", \"CPI\",\"Admin Units\", \"Entry Date\", \"Last Update\"])"
   ],
   "id": "8dbacf406d23c6b1",
   "outputs": [],
   "execution_count": 8
  },
  {
   "metadata": {
    "ExecuteTime": {
     "end_time": "2025-06-03T06:42:14.814694Z",
     "start_time": "2025-06-03T06:42:14.800713Z"
    }
   },
   "cell_type": "code",
   "source": [
    "#to fill numerical columns with nan values with zero (0)\n",
    "columns_to_fill=[\"Start Day\", \"End Day\", \"Total Deaths\", \"No. Injured\", \"No. Affected\", \"No. Homeless\", \"Total Affected\"]\n",
    "for column_name in columns_to_fill:\n",
    "    df.loc[df[column_name].isna(),column_name]=0"
   ],
   "id": "7817095d8256e093",
   "outputs": [],
   "execution_count": 9
  },
  {
   "metadata": {
    "ExecuteTime": {
     "end_time": "2025-06-03T06:42:17.312225Z",
     "start_time": "2025-06-03T06:42:17.302383Z"
    }
   },
   "cell_type": "code",
   "source": "df.isnull().sum()",
   "id": "9bb27b4c289a6f63",
   "outputs": [
    {
     "data": {
      "text/plain": [
       "DisNo.                 0\n",
       "Historic               0\n",
       "Disaster Group         0\n",
       "Disaster Subgroup      0\n",
       "Disaster Type          0\n",
       "ISO                    0\n",
       "Country                0\n",
       "Subregion              0\n",
       "Region                 0\n",
       "Location               1\n",
       "Origin                76\n",
       "Associated Types     172\n",
       "OFDA/BHA Response      0\n",
       "Appeal                 0\n",
       "Declaration            0\n",
       "River Basin          174\n",
       "Start Year             0\n",
       "Start Month            0\n",
       "Start Day              0\n",
       "End Year               0\n",
       "End Month              0\n",
       "End Day                0\n",
       "Total Deaths           0\n",
       "No. Injured            0\n",
       "No. Affected           0\n",
       "No. Homeless           0\n",
       "Total Affected         0\n",
       "dtype: int64"
      ]
     },
     "execution_count": 10,
     "metadata": {},
     "output_type": "execute_result"
    }
   ],
   "execution_count": 10
  },
  {
   "metadata": {
    "ExecuteTime": {
     "end_time": "2025-06-03T06:42:19.894820Z",
     "start_time": "2025-06-03T06:42:19.885100Z"
    }
   },
   "cell_type": "code",
   "source": [
    "#to fill other columns with nan values with zero (nonspecified)\n",
    "columns_to_fill=[\"Origin\", \"Location\", \"River Basin\"]\n",
    "for column_name in columns_to_fill:\n",
    "    df.loc[df[column_name].isna(),column_name]=\"nonspecified\""
   ],
   "id": "d78a2547369f3196",
   "outputs": [],
   "execution_count": 11
  },
  {
   "metadata": {
    "ExecuteTime": {
     "end_time": "2025-06-03T06:42:22.012219Z",
     "start_time": "2025-06-03T06:42:21.990919Z"
    }
   },
   "cell_type": "code",
   "source": "df.isnull().sum()",
   "id": "852fb0b20e283d2f",
   "outputs": [
    {
     "data": {
      "text/plain": [
       "DisNo.                 0\n",
       "Historic               0\n",
       "Disaster Group         0\n",
       "Disaster Subgroup      0\n",
       "Disaster Type          0\n",
       "ISO                    0\n",
       "Country                0\n",
       "Subregion              0\n",
       "Region                 0\n",
       "Location               0\n",
       "Origin                 0\n",
       "Associated Types     172\n",
       "OFDA/BHA Response      0\n",
       "Appeal                 0\n",
       "Declaration            0\n",
       "River Basin            0\n",
       "Start Year             0\n",
       "Start Month            0\n",
       "Start Day              0\n",
       "End Year               0\n",
       "End Month              0\n",
       "End Day                0\n",
       "Total Deaths           0\n",
       "No. Injured            0\n",
       "No. Affected           0\n",
       "No. Homeless           0\n",
       "Total Affected         0\n",
       "dtype: int64"
      ]
     },
     "execution_count": 12,
     "metadata": {},
     "output_type": "execute_result"
    }
   ],
   "execution_count": 12
  },
  {
   "metadata": {
    "ExecuteTime": {
     "end_time": "2025-06-03T06:42:48.908942Z",
     "start_time": "2025-06-03T06:42:48.904972Z"
    }
   },
   "cell_type": "code",
   "source": [
    "# changing data types\n",
    "dtype={ \"Total Deaths\" : \"int64\",\n",
    "\"No. Injured\": \"int64\",\n",
    "\"No. Affected\": \"int64\",\n",
    " \"No. Homeless\": \"int64\",\n",
    " \"Total Affected\": \"int64\",\n",
    " \"Start Month\": \"category\",\n",
    " \"End Month\": \"category\",\n",
    " \"Start Year\": \"category\",\n",
    " \"End Year\": \"category\"}"
   ],
   "id": "8cc8828b0a4633",
   "outputs": [],
   "execution_count": 14
  },
  {
   "metadata": {
    "ExecuteTime": {
     "end_time": "2025-06-03T06:42:50.995325Z",
     "start_time": "2025-06-03T06:42:50.977732Z"
    }
   },
   "cell_type": "code",
   "source": "df=df.astype(dtype)",
   "id": "5876652cdfaa434d",
   "outputs": [],
   "execution_count": 15
  },
  {
   "metadata": {
    "ExecuteTime": {
     "end_time": "2025-06-03T06:42:52.975405Z",
     "start_time": "2025-06-03T06:42:52.936914Z"
    }
   },
   "cell_type": "code",
   "source": "df.head()",
   "id": "791aa5854874241f",
   "outputs": [
    {
     "data": {
      "text/plain": [
       "          DisNo. Historic Disaster Group Disaster Subgroup Disaster Type  ISO  \\\n",
       "0  2000-0079-NAM       No        Natural      Hydrological         Flood  NAM   \n",
       "1  2000-0118-MWI       No        Natural      Hydrological         Flood  MWI   \n",
       "2  2000-0152-AGO       No        Natural      Hydrological         Flood  AGO   \n",
       "3  2000-0193-AGO       No        Natural      Hydrological         Flood  AGO   \n",
       "4  2000-0260-AGO       No        Natural      Hydrological         Flood  AGO   \n",
       "\n",
       "   Country           Subregion  Region  \\\n",
       "0  Namibia  Sub-Saharan Africa  Africa   \n",
       "1   Malawi  Sub-Saharan Africa  Africa   \n",
       "2   Angola  Sub-Saharan Africa  Africa   \n",
       "3   Angola  Sub-Saharan Africa  Africa   \n",
       "4   Angola  Sub-Saharan Africa  Africa   \n",
       "\n",
       "                                            Location  ... Start Month  \\\n",
       "0  Mariental Rural, Mariental Urban districts (Ha...  ...           2   \n",
       "1  Chikwawa, Nsanje districts (Southern Region pr...  ...           3   \n",
       "2    Caxito village (Dande district, Bengo province)  ...           3   \n",
       "3        Porto Amboim district (Cuanza Sul province)  ...           4   \n",
       "4                 Ganda district (Benguela province)  ...           5   \n",
       "\n",
       "  Start Day End Year End Month End Day Total Deaths No. Injured No. Affected  \\\n",
       "0       0.0     2000         2     0.0            0           0         5000   \n",
       "1       0.0     2000         3     0.0            0           0        20000   \n",
       "2      27.0     2000         3    27.0            3           0            0   \n",
       "3      10.0     2000         4    10.0            1           0            0   \n",
       "4       3.0     2000         5     3.0           11          11            0   \n",
       "\n",
       "   No. Homeless Total Affected  \n",
       "0             0           5000  \n",
       "1             0          20000  \n",
       "2          6000           6000  \n",
       "3          3000           3000  \n",
       "4             0             11  \n",
       "\n",
       "[5 rows x 27 columns]"
      ],
      "text/html": [
       "<div>\n",
       "<style scoped>\n",
       "    .dataframe tbody tr th:only-of-type {\n",
       "        vertical-align: middle;\n",
       "    }\n",
       "\n",
       "    .dataframe tbody tr th {\n",
       "        vertical-align: top;\n",
       "    }\n",
       "\n",
       "    .dataframe thead th {\n",
       "        text-align: right;\n",
       "    }\n",
       "</style>\n",
       "<table border=\"1\" class=\"dataframe\">\n",
       "  <thead>\n",
       "    <tr style=\"text-align: right;\">\n",
       "      <th></th>\n",
       "      <th>DisNo.</th>\n",
       "      <th>Historic</th>\n",
       "      <th>Disaster Group</th>\n",
       "      <th>Disaster Subgroup</th>\n",
       "      <th>Disaster Type</th>\n",
       "      <th>ISO</th>\n",
       "      <th>Country</th>\n",
       "      <th>Subregion</th>\n",
       "      <th>Region</th>\n",
       "      <th>Location</th>\n",
       "      <th>...</th>\n",
       "      <th>Start Month</th>\n",
       "      <th>Start Day</th>\n",
       "      <th>End Year</th>\n",
       "      <th>End Month</th>\n",
       "      <th>End Day</th>\n",
       "      <th>Total Deaths</th>\n",
       "      <th>No. Injured</th>\n",
       "      <th>No. Affected</th>\n",
       "      <th>No. Homeless</th>\n",
       "      <th>Total Affected</th>\n",
       "    </tr>\n",
       "  </thead>\n",
       "  <tbody>\n",
       "    <tr>\n",
       "      <th>0</th>\n",
       "      <td>2000-0079-NAM</td>\n",
       "      <td>No</td>\n",
       "      <td>Natural</td>\n",
       "      <td>Hydrological</td>\n",
       "      <td>Flood</td>\n",
       "      <td>NAM</td>\n",
       "      <td>Namibia</td>\n",
       "      <td>Sub-Saharan Africa</td>\n",
       "      <td>Africa</td>\n",
       "      <td>Mariental Rural, Mariental Urban districts (Ha...</td>\n",
       "      <td>...</td>\n",
       "      <td>2</td>\n",
       "      <td>0.0</td>\n",
       "      <td>2000</td>\n",
       "      <td>2</td>\n",
       "      <td>0.0</td>\n",
       "      <td>0</td>\n",
       "      <td>0</td>\n",
       "      <td>5000</td>\n",
       "      <td>0</td>\n",
       "      <td>5000</td>\n",
       "    </tr>\n",
       "    <tr>\n",
       "      <th>1</th>\n",
       "      <td>2000-0118-MWI</td>\n",
       "      <td>No</td>\n",
       "      <td>Natural</td>\n",
       "      <td>Hydrological</td>\n",
       "      <td>Flood</td>\n",
       "      <td>MWI</td>\n",
       "      <td>Malawi</td>\n",
       "      <td>Sub-Saharan Africa</td>\n",
       "      <td>Africa</td>\n",
       "      <td>Chikwawa, Nsanje districts (Southern Region pr...</td>\n",
       "      <td>...</td>\n",
       "      <td>3</td>\n",
       "      <td>0.0</td>\n",
       "      <td>2000</td>\n",
       "      <td>3</td>\n",
       "      <td>0.0</td>\n",
       "      <td>0</td>\n",
       "      <td>0</td>\n",
       "      <td>20000</td>\n",
       "      <td>0</td>\n",
       "      <td>20000</td>\n",
       "    </tr>\n",
       "    <tr>\n",
       "      <th>2</th>\n",
       "      <td>2000-0152-AGO</td>\n",
       "      <td>No</td>\n",
       "      <td>Natural</td>\n",
       "      <td>Hydrological</td>\n",
       "      <td>Flood</td>\n",
       "      <td>AGO</td>\n",
       "      <td>Angola</td>\n",
       "      <td>Sub-Saharan Africa</td>\n",
       "      <td>Africa</td>\n",
       "      <td>Caxito village (Dande district, Bengo province)</td>\n",
       "      <td>...</td>\n",
       "      <td>3</td>\n",
       "      <td>27.0</td>\n",
       "      <td>2000</td>\n",
       "      <td>3</td>\n",
       "      <td>27.0</td>\n",
       "      <td>3</td>\n",
       "      <td>0</td>\n",
       "      <td>0</td>\n",
       "      <td>6000</td>\n",
       "      <td>6000</td>\n",
       "    </tr>\n",
       "    <tr>\n",
       "      <th>3</th>\n",
       "      <td>2000-0193-AGO</td>\n",
       "      <td>No</td>\n",
       "      <td>Natural</td>\n",
       "      <td>Hydrological</td>\n",
       "      <td>Flood</td>\n",
       "      <td>AGO</td>\n",
       "      <td>Angola</td>\n",
       "      <td>Sub-Saharan Africa</td>\n",
       "      <td>Africa</td>\n",
       "      <td>Porto Amboim district (Cuanza Sul province)</td>\n",
       "      <td>...</td>\n",
       "      <td>4</td>\n",
       "      <td>10.0</td>\n",
       "      <td>2000</td>\n",
       "      <td>4</td>\n",
       "      <td>10.0</td>\n",
       "      <td>1</td>\n",
       "      <td>0</td>\n",
       "      <td>0</td>\n",
       "      <td>3000</td>\n",
       "      <td>3000</td>\n",
       "    </tr>\n",
       "    <tr>\n",
       "      <th>4</th>\n",
       "      <td>2000-0260-AGO</td>\n",
       "      <td>No</td>\n",
       "      <td>Natural</td>\n",
       "      <td>Hydrological</td>\n",
       "      <td>Flood</td>\n",
       "      <td>AGO</td>\n",
       "      <td>Angola</td>\n",
       "      <td>Sub-Saharan Africa</td>\n",
       "      <td>Africa</td>\n",
       "      <td>Ganda district (Benguela province)</td>\n",
       "      <td>...</td>\n",
       "      <td>5</td>\n",
       "      <td>3.0</td>\n",
       "      <td>2000</td>\n",
       "      <td>5</td>\n",
       "      <td>3.0</td>\n",
       "      <td>11</td>\n",
       "      <td>11</td>\n",
       "      <td>0</td>\n",
       "      <td>0</td>\n",
       "      <td>11</td>\n",
       "    </tr>\n",
       "  </tbody>\n",
       "</table>\n",
       "<p>5 rows × 27 columns</p>\n",
       "</div>"
      ]
     },
     "execution_count": 16,
     "metadata": {},
     "output_type": "execute_result"
    }
   ],
   "execution_count": 16
  },
  {
   "metadata": {},
   "cell_type": "code",
   "outputs": [],
   "execution_count": null,
   "source": "",
   "id": "2ce7fc3c268e1e1d"
  },
  {
   "metadata": {},
   "cell_type": "code",
   "outputs": [],
   "execution_count": null,
   "source": "",
   "id": "39fd70cf6aa3128c"
  },
  {
   "cell_type": "code",
   "id": "cc4f3c11",
   "metadata": {
    "ExecuteTime": {
     "end_time": "2025-06-03T06:43:30.159060Z",
     "start_time": "2025-06-03T06:43:30.118650Z"
    }
   },
   "source": [
    "df=pd.read_csv(\"flood in Africa region.csv\")\n",
    "df.head()"
   ],
   "outputs": [
    {
     "data": {
      "text/plain": [
       "          DisNo. Historic Disaster Group Disaster Subgroup Disaster Type  ISO  \\\n",
       "0  2000-0079-NAM       No        Natural      Hydrological         Flood  NAM   \n",
       "1  2000-0118-MWI       No        Natural      Hydrological         Flood  MWI   \n",
       "2  2000-0152-AGO       No        Natural      Hydrological         Flood  AGO   \n",
       "3  2000-0193-AGO       No        Natural      Hydrological         Flood  AGO   \n",
       "4  2000-0260-AGO       No        Natural      Hydrological         Flood  AGO   \n",
       "\n",
       "   Country           Subregion  Region  \\\n",
       "0  Namibia  Sub-Saharan Africa  Africa   \n",
       "1   Malawi  Sub-Saharan Africa  Africa   \n",
       "2   Angola  Sub-Saharan Africa  Africa   \n",
       "3   Angola  Sub-Saharan Africa  Africa   \n",
       "4   Angola  Sub-Saharan Africa  Africa   \n",
       "\n",
       "                                            Location  ... Start Month  \\\n",
       "0  Mariental Rural, Mariental Urban districts (Ha...  ...           2   \n",
       "1  Chikwawa, Nsanje districts (Southern Region pr...  ...           3   \n",
       "2    Caxito village (Dande district, Bengo province)  ...           3   \n",
       "3        Porto Amboim district (Cuanza Sul province)  ...           4   \n",
       "4                 Ganda district (Benguela province)  ...           5   \n",
       "\n",
       "  Start Day End Year End Month End Day Total Deaths  No. Injured  \\\n",
       "0       0.0     2000         2     0.0            0            0   \n",
       "1       0.0     2000         3     0.0            0            0   \n",
       "2      27.0     2000         3    27.0            3            0   \n",
       "3      10.0     2000         4    10.0            1            0   \n",
       "4       3.0     2000         5     3.0           11           11   \n",
       "\n",
       "   No. Affected  No. Homeless  Total Affected  \n",
       "0          5000             0            5000  \n",
       "1         20000             0           20000  \n",
       "2             0          6000            6000  \n",
       "3             0          3000            3000  \n",
       "4             0             0              11  \n",
       "\n",
       "[5 rows x 27 columns]"
      ],
      "text/html": [
       "<div>\n",
       "<style scoped>\n",
       "    .dataframe tbody tr th:only-of-type {\n",
       "        vertical-align: middle;\n",
       "    }\n",
       "\n",
       "    .dataframe tbody tr th {\n",
       "        vertical-align: top;\n",
       "    }\n",
       "\n",
       "    .dataframe thead th {\n",
       "        text-align: right;\n",
       "    }\n",
       "</style>\n",
       "<table border=\"1\" class=\"dataframe\">\n",
       "  <thead>\n",
       "    <tr style=\"text-align: right;\">\n",
       "      <th></th>\n",
       "      <th>DisNo.</th>\n",
       "      <th>Historic</th>\n",
       "      <th>Disaster Group</th>\n",
       "      <th>Disaster Subgroup</th>\n",
       "      <th>Disaster Type</th>\n",
       "      <th>ISO</th>\n",
       "      <th>Country</th>\n",
       "      <th>Subregion</th>\n",
       "      <th>Region</th>\n",
       "      <th>Location</th>\n",
       "      <th>...</th>\n",
       "      <th>Start Month</th>\n",
       "      <th>Start Day</th>\n",
       "      <th>End Year</th>\n",
       "      <th>End Month</th>\n",
       "      <th>End Day</th>\n",
       "      <th>Total Deaths</th>\n",
       "      <th>No. Injured</th>\n",
       "      <th>No. Affected</th>\n",
       "      <th>No. Homeless</th>\n",
       "      <th>Total Affected</th>\n",
       "    </tr>\n",
       "  </thead>\n",
       "  <tbody>\n",
       "    <tr>\n",
       "      <th>0</th>\n",
       "      <td>2000-0079-NAM</td>\n",
       "      <td>No</td>\n",
       "      <td>Natural</td>\n",
       "      <td>Hydrological</td>\n",
       "      <td>Flood</td>\n",
       "      <td>NAM</td>\n",
       "      <td>Namibia</td>\n",
       "      <td>Sub-Saharan Africa</td>\n",
       "      <td>Africa</td>\n",
       "      <td>Mariental Rural, Mariental Urban districts (Ha...</td>\n",
       "      <td>...</td>\n",
       "      <td>2</td>\n",
       "      <td>0.0</td>\n",
       "      <td>2000</td>\n",
       "      <td>2</td>\n",
       "      <td>0.0</td>\n",
       "      <td>0</td>\n",
       "      <td>0</td>\n",
       "      <td>5000</td>\n",
       "      <td>0</td>\n",
       "      <td>5000</td>\n",
       "    </tr>\n",
       "    <tr>\n",
       "      <th>1</th>\n",
       "      <td>2000-0118-MWI</td>\n",
       "      <td>No</td>\n",
       "      <td>Natural</td>\n",
       "      <td>Hydrological</td>\n",
       "      <td>Flood</td>\n",
       "      <td>MWI</td>\n",
       "      <td>Malawi</td>\n",
       "      <td>Sub-Saharan Africa</td>\n",
       "      <td>Africa</td>\n",
       "      <td>Chikwawa, Nsanje districts (Southern Region pr...</td>\n",
       "      <td>...</td>\n",
       "      <td>3</td>\n",
       "      <td>0.0</td>\n",
       "      <td>2000</td>\n",
       "      <td>3</td>\n",
       "      <td>0.0</td>\n",
       "      <td>0</td>\n",
       "      <td>0</td>\n",
       "      <td>20000</td>\n",
       "      <td>0</td>\n",
       "      <td>20000</td>\n",
       "    </tr>\n",
       "    <tr>\n",
       "      <th>2</th>\n",
       "      <td>2000-0152-AGO</td>\n",
       "      <td>No</td>\n",
       "      <td>Natural</td>\n",
       "      <td>Hydrological</td>\n",
       "      <td>Flood</td>\n",
       "      <td>AGO</td>\n",
       "      <td>Angola</td>\n",
       "      <td>Sub-Saharan Africa</td>\n",
       "      <td>Africa</td>\n",
       "      <td>Caxito village (Dande district, Bengo province)</td>\n",
       "      <td>...</td>\n",
       "      <td>3</td>\n",
       "      <td>27.0</td>\n",
       "      <td>2000</td>\n",
       "      <td>3</td>\n",
       "      <td>27.0</td>\n",
       "      <td>3</td>\n",
       "      <td>0</td>\n",
       "      <td>0</td>\n",
       "      <td>6000</td>\n",
       "      <td>6000</td>\n",
       "    </tr>\n",
       "    <tr>\n",
       "      <th>3</th>\n",
       "      <td>2000-0193-AGO</td>\n",
       "      <td>No</td>\n",
       "      <td>Natural</td>\n",
       "      <td>Hydrological</td>\n",
       "      <td>Flood</td>\n",
       "      <td>AGO</td>\n",
       "      <td>Angola</td>\n",
       "      <td>Sub-Saharan Africa</td>\n",
       "      <td>Africa</td>\n",
       "      <td>Porto Amboim district (Cuanza Sul province)</td>\n",
       "      <td>...</td>\n",
       "      <td>4</td>\n",
       "      <td>10.0</td>\n",
       "      <td>2000</td>\n",
       "      <td>4</td>\n",
       "      <td>10.0</td>\n",
       "      <td>1</td>\n",
       "      <td>0</td>\n",
       "      <td>0</td>\n",
       "      <td>3000</td>\n",
       "      <td>3000</td>\n",
       "    </tr>\n",
       "    <tr>\n",
       "      <th>4</th>\n",
       "      <td>2000-0260-AGO</td>\n",
       "      <td>No</td>\n",
       "      <td>Natural</td>\n",
       "      <td>Hydrological</td>\n",
       "      <td>Flood</td>\n",
       "      <td>AGO</td>\n",
       "      <td>Angola</td>\n",
       "      <td>Sub-Saharan Africa</td>\n",
       "      <td>Africa</td>\n",
       "      <td>Ganda district (Benguela province)</td>\n",
       "      <td>...</td>\n",
       "      <td>5</td>\n",
       "      <td>3.0</td>\n",
       "      <td>2000</td>\n",
       "      <td>5</td>\n",
       "      <td>3.0</td>\n",
       "      <td>11</td>\n",
       "      <td>11</td>\n",
       "      <td>0</td>\n",
       "      <td>0</td>\n",
       "      <td>11</td>\n",
       "    </tr>\n",
       "  </tbody>\n",
       "</table>\n",
       "<p>5 rows × 27 columns</p>\n",
       "</div>"
      ]
     },
     "execution_count": 17,
     "metadata": {},
     "output_type": "execute_result"
    }
   ],
   "execution_count": 17
  },
  {
   "cell_type": "code",
   "id": "67df91a4",
   "metadata": {
    "ExecuteTime": {
     "end_time": "2025-06-03T06:43:35.650544Z",
     "start_time": "2025-06-03T06:43:35.632693Z"
    }
   },
   "source": [
    "df.info()"
   ],
   "outputs": [
    {
     "name": "stdout",
     "output_type": "stream",
     "text": [
      "<class 'pandas.core.frame.DataFrame'>\n",
      "RangeIndex: 206 entries, 0 to 205\n",
      "Data columns (total 27 columns):\n",
      " #   Column             Non-Null Count  Dtype  \n",
      "---  ------             --------------  -----  \n",
      " 0   DisNo.             206 non-null    object \n",
      " 1   Historic           206 non-null    object \n",
      " 2   Disaster Group     206 non-null    object \n",
      " 3   Disaster Subgroup  206 non-null    object \n",
      " 4   Disaster Type      206 non-null    object \n",
      " 5   ISO                206 non-null    object \n",
      " 6   Country            206 non-null    object \n",
      " 7   Subregion          206 non-null    object \n",
      " 8   Region             206 non-null    object \n",
      " 9   Location           205 non-null    object \n",
      " 10  Origin             130 non-null    object \n",
      " 11  Associated Types   34 non-null     object \n",
      " 12  OFDA/BHA Response  206 non-null    object \n",
      " 13  Appeal             206 non-null    object \n",
      " 14  Declaration        206 non-null    object \n",
      " 15  River Basin        32 non-null     object \n",
      " 16  Start Year         206 non-null    int64  \n",
      " 17  Start Month        206 non-null    int64  \n",
      " 18  Start Day          206 non-null    float64\n",
      " 19  End Year           206 non-null    int64  \n",
      " 20  End Month          206 non-null    int64  \n",
      " 21  End Day            206 non-null    float64\n",
      " 22  Total Deaths       206 non-null    int64  \n",
      " 23  No. Injured        206 non-null    int64  \n",
      " 24  No. Affected       206 non-null    int64  \n",
      " 25  No. Homeless       206 non-null    int64  \n",
      " 26  Total Affected     206 non-null    int64  \n",
      "dtypes: float64(2), int64(9), object(16)\n",
      "memory usage: 43.6+ KB\n"
     ]
    }
   ],
   "execution_count": 18
  },
  {
   "cell_type": "code",
   "id": "877f558f",
   "metadata": {
    "ExecuteTime": {
     "end_time": "2025-06-03T06:43:38.557501Z",
     "start_time": "2025-06-03T06:43:38.544611Z"
    }
   },
   "source": [
    "#which country has the highest no of  recorded flood event\n",
    "freq_flood=df.value_counts([\"Country\"])\n",
    "print(freq_flood)"
   ],
   "outputs": [
    {
     "name": "stdout",
     "output_type": "stream",
     "text": [
      "Country                         \n",
      "Nigeria                             18\n",
      "Burundi                             11\n",
      "Democratic Republic of the Congo    10\n",
      "United Republic of Tanzania         10\n",
      "Mozambique                          10\n",
      "Malawi                               9\n",
      "Rwanda                               9\n",
      "Uganda                               9\n",
      "Niger                                8\n",
      "Angola                               7\n",
      "Ghana                                7\n",
      "South Africa                         7\n",
      "Mali                                 6\n",
      "Kenya                                6\n",
      "Ethiopia                             6\n",
      "Zambia                               5\n",
      "Sudan                                5\n",
      "Côte d’Ivoire                        4\n",
      "Burkina Faso                         4\n",
      "Algeria                              4\n",
      "Somalia                              4\n",
      "Mauritania                           4\n",
      "Namibia                              3\n",
      "Congo                                3\n",
      "Cameroon                             3\n",
      "Chad                                 3\n",
      "Senegal                              3\n",
      "Togo                                 3\n",
      "South Sudan                          3\n",
      "Guinea                               3\n",
      "Botswana                             2\n",
      "Morocco                              2\n",
      "Gambia                               2\n",
      "Central African Republic             2\n",
      "Madagascar                           2\n",
      "Sierra Leone                         2\n",
      "Cabo Verde                           1\n",
      "Canary Islands                       1\n",
      "Djibouti                             1\n",
      "Liberia                              1\n",
      "Libya                                1\n",
      "Egypt                                1\n",
      "Zimbabwe                             1\n",
      "Name: count, dtype: int64\n"
     ]
    }
   ],
   "execution_count": 19
  },
  {
   "cell_type": "code",
   "id": "d9b82b55",
   "metadata": {
    "ExecuteTime": {
     "end_time": "2025-06-03T06:43:40.716557Z",
     "start_time": "2025-06-03T06:43:40.711054Z"
    }
   },
   "source": [],
   "outputs": [],
   "execution_count": null
  },
  {
   "cell_type": "code",
   "id": "7e3e0bee",
   "metadata": {
    "ExecuteTime": {
     "end_time": "2025-06-02T19:50:02.798325Z",
     "start_time": "2025-06-02T19:50:02.753383Z"
    }
   },
   "source": [
    "#to check the total no of affected persons by country\n",
    "#list of total affected  contries arranged in descending order\n",
    "group_country=df.groupby(by=\"Country\")\n",
    "top_affect=group_country[\"Total Affected\"].sum().reset_index()\n",
    "df_sorted=top_affect.sort_values(\"Total Affected\",ascending=False)\n",
    "df_sorted"
   ],
   "outputs": [
    {
     "data": {
      "text/plain": [
       "                             Country  Total Affected\n",
       "30                           Nigeria         2225769\n",
       "34                           Somalia         2136316\n",
       "36                       South Sudan         1764000\n",
       "15                          Ethiopia         1448954\n",
       "29                             Niger         1370026\n",
       "23                            Malawi         1334070\n",
       "41                            Zambia         1323672\n",
       "17                             Ghana         1131302\n",
       "19                             Kenya         1041843\n",
       "37                             Sudan         1038627\n",
       "27                        Mozambique          837051\n",
       "12  Democratic Republic of the Congo          402904\n",
       "10                             Congo          279000\n",
       "40       United Republic of Tanzania          157482\n",
       "3                       Burkina Faso          131334\n",
       "13                          Djibouti          110000\n",
       "22                        Madagascar          106846\n",
       "39                            Uganda           97400\n",
       "4                            Burundi           86871\n",
       "18                            Guinea           82456\n",
       "25                        Mauritania           81082\n",
       "38                              Togo           75060\n",
       "6                           Cameroon           66698\n",
       "11                     Côte d’Ivoire           58303\n",
       "35                      South Africa           53956\n",
       "8           Central African Republic           48418\n",
       "9                               Chad           37357\n",
       "0                            Algeria           36770\n",
       "32                           Senegal           36614\n",
       "42                          Zimbabwe           30000\n",
       "33                      Sierra Leone           29684\n",
       "5                         Cabo Verde           25000\n",
       "24                              Mali           23866\n",
       "1                             Angola           23630\n",
       "16                            Gambia           20250\n",
       "21                             Libya           20030\n",
       "20                           Liberia           15431\n",
       "31                            Rwanda           12563\n",
       "28                           Namibia            8502\n",
       "2                           Botswana            7475\n",
       "26                           Morocco             679\n",
       "7                     Canary Islands             300\n",
       "14                             Egypt              70"
      ],
      "text/html": [
       "<div>\n",
       "<style scoped>\n",
       "    .dataframe tbody tr th:only-of-type {\n",
       "        vertical-align: middle;\n",
       "    }\n",
       "\n",
       "    .dataframe tbody tr th {\n",
       "        vertical-align: top;\n",
       "    }\n",
       "\n",
       "    .dataframe thead th {\n",
       "        text-align: right;\n",
       "    }\n",
       "</style>\n",
       "<table border=\"1\" class=\"dataframe\">\n",
       "  <thead>\n",
       "    <tr style=\"text-align: right;\">\n",
       "      <th></th>\n",
       "      <th>Country</th>\n",
       "      <th>Total Affected</th>\n",
       "    </tr>\n",
       "  </thead>\n",
       "  <tbody>\n",
       "    <tr>\n",
       "      <th>30</th>\n",
       "      <td>Nigeria</td>\n",
       "      <td>2225769</td>\n",
       "    </tr>\n",
       "    <tr>\n",
       "      <th>34</th>\n",
       "      <td>Somalia</td>\n",
       "      <td>2136316</td>\n",
       "    </tr>\n",
       "    <tr>\n",
       "      <th>36</th>\n",
       "      <td>South Sudan</td>\n",
       "      <td>1764000</td>\n",
       "    </tr>\n",
       "    <tr>\n",
       "      <th>15</th>\n",
       "      <td>Ethiopia</td>\n",
       "      <td>1448954</td>\n",
       "    </tr>\n",
       "    <tr>\n",
       "      <th>29</th>\n",
       "      <td>Niger</td>\n",
       "      <td>1370026</td>\n",
       "    </tr>\n",
       "    <tr>\n",
       "      <th>23</th>\n",
       "      <td>Malawi</td>\n",
       "      <td>1334070</td>\n",
       "    </tr>\n",
       "    <tr>\n",
       "      <th>41</th>\n",
       "      <td>Zambia</td>\n",
       "      <td>1323672</td>\n",
       "    </tr>\n",
       "    <tr>\n",
       "      <th>17</th>\n",
       "      <td>Ghana</td>\n",
       "      <td>1131302</td>\n",
       "    </tr>\n",
       "    <tr>\n",
       "      <th>19</th>\n",
       "      <td>Kenya</td>\n",
       "      <td>1041843</td>\n",
       "    </tr>\n",
       "    <tr>\n",
       "      <th>37</th>\n",
       "      <td>Sudan</td>\n",
       "      <td>1038627</td>\n",
       "    </tr>\n",
       "    <tr>\n",
       "      <th>27</th>\n",
       "      <td>Mozambique</td>\n",
       "      <td>837051</td>\n",
       "    </tr>\n",
       "    <tr>\n",
       "      <th>12</th>\n",
       "      <td>Democratic Republic of the Congo</td>\n",
       "      <td>402904</td>\n",
       "    </tr>\n",
       "    <tr>\n",
       "      <th>10</th>\n",
       "      <td>Congo</td>\n",
       "      <td>279000</td>\n",
       "    </tr>\n",
       "    <tr>\n",
       "      <th>40</th>\n",
       "      <td>United Republic of Tanzania</td>\n",
       "      <td>157482</td>\n",
       "    </tr>\n",
       "    <tr>\n",
       "      <th>3</th>\n",
       "      <td>Burkina Faso</td>\n",
       "      <td>131334</td>\n",
       "    </tr>\n",
       "    <tr>\n",
       "      <th>13</th>\n",
       "      <td>Djibouti</td>\n",
       "      <td>110000</td>\n",
       "    </tr>\n",
       "    <tr>\n",
       "      <th>22</th>\n",
       "      <td>Madagascar</td>\n",
       "      <td>106846</td>\n",
       "    </tr>\n",
       "    <tr>\n",
       "      <th>39</th>\n",
       "      <td>Uganda</td>\n",
       "      <td>97400</td>\n",
       "    </tr>\n",
       "    <tr>\n",
       "      <th>4</th>\n",
       "      <td>Burundi</td>\n",
       "      <td>86871</td>\n",
       "    </tr>\n",
       "    <tr>\n",
       "      <th>18</th>\n",
       "      <td>Guinea</td>\n",
       "      <td>82456</td>\n",
       "    </tr>\n",
       "    <tr>\n",
       "      <th>25</th>\n",
       "      <td>Mauritania</td>\n",
       "      <td>81082</td>\n",
       "    </tr>\n",
       "    <tr>\n",
       "      <th>38</th>\n",
       "      <td>Togo</td>\n",
       "      <td>75060</td>\n",
       "    </tr>\n",
       "    <tr>\n",
       "      <th>6</th>\n",
       "      <td>Cameroon</td>\n",
       "      <td>66698</td>\n",
       "    </tr>\n",
       "    <tr>\n",
       "      <th>11</th>\n",
       "      <td>Côte d’Ivoire</td>\n",
       "      <td>58303</td>\n",
       "    </tr>\n",
       "    <tr>\n",
       "      <th>35</th>\n",
       "      <td>South Africa</td>\n",
       "      <td>53956</td>\n",
       "    </tr>\n",
       "    <tr>\n",
       "      <th>8</th>\n",
       "      <td>Central African Republic</td>\n",
       "      <td>48418</td>\n",
       "    </tr>\n",
       "    <tr>\n",
       "      <th>9</th>\n",
       "      <td>Chad</td>\n",
       "      <td>37357</td>\n",
       "    </tr>\n",
       "    <tr>\n",
       "      <th>0</th>\n",
       "      <td>Algeria</td>\n",
       "      <td>36770</td>\n",
       "    </tr>\n",
       "    <tr>\n",
       "      <th>32</th>\n",
       "      <td>Senegal</td>\n",
       "      <td>36614</td>\n",
       "    </tr>\n",
       "    <tr>\n",
       "      <th>42</th>\n",
       "      <td>Zimbabwe</td>\n",
       "      <td>30000</td>\n",
       "    </tr>\n",
       "    <tr>\n",
       "      <th>33</th>\n",
       "      <td>Sierra Leone</td>\n",
       "      <td>29684</td>\n",
       "    </tr>\n",
       "    <tr>\n",
       "      <th>5</th>\n",
       "      <td>Cabo Verde</td>\n",
       "      <td>25000</td>\n",
       "    </tr>\n",
       "    <tr>\n",
       "      <th>24</th>\n",
       "      <td>Mali</td>\n",
       "      <td>23866</td>\n",
       "    </tr>\n",
       "    <tr>\n",
       "      <th>1</th>\n",
       "      <td>Angola</td>\n",
       "      <td>23630</td>\n",
       "    </tr>\n",
       "    <tr>\n",
       "      <th>16</th>\n",
       "      <td>Gambia</td>\n",
       "      <td>20250</td>\n",
       "    </tr>\n",
       "    <tr>\n",
       "      <th>21</th>\n",
       "      <td>Libya</td>\n",
       "      <td>20030</td>\n",
       "    </tr>\n",
       "    <tr>\n",
       "      <th>20</th>\n",
       "      <td>Liberia</td>\n",
       "      <td>15431</td>\n",
       "    </tr>\n",
       "    <tr>\n",
       "      <th>31</th>\n",
       "      <td>Rwanda</td>\n",
       "      <td>12563</td>\n",
       "    </tr>\n",
       "    <tr>\n",
       "      <th>28</th>\n",
       "      <td>Namibia</td>\n",
       "      <td>8502</td>\n",
       "    </tr>\n",
       "    <tr>\n",
       "      <th>2</th>\n",
       "      <td>Botswana</td>\n",
       "      <td>7475</td>\n",
       "    </tr>\n",
       "    <tr>\n",
       "      <th>26</th>\n",
       "      <td>Morocco</td>\n",
       "      <td>679</td>\n",
       "    </tr>\n",
       "    <tr>\n",
       "      <th>7</th>\n",
       "      <td>Canary Islands</td>\n",
       "      <td>300</td>\n",
       "    </tr>\n",
       "    <tr>\n",
       "      <th>14</th>\n",
       "      <td>Egypt</td>\n",
       "      <td>70</td>\n",
       "    </tr>\n",
       "  </tbody>\n",
       "</table>\n",
       "</div>"
      ]
     },
     "execution_count": 6,
     "metadata": {},
     "output_type": "execute_result"
    }
   ],
   "execution_count": 6
  },
  {
   "cell_type": "code",
   "id": "b8227d26",
   "metadata": {
    "ExecuteTime": {
     "end_time": "2025-06-03T06:43:46.586794Z",
     "start_time": "2025-06-03T06:43:45.990847Z"
    }
   },
   "source": [
    "#top ten most affected year\n",
    "df.nlargest(10,\"Total Affected\").plot(kind=\"bar\",x=\"End Year\",y=\"Total Affected\",color=\"red\")\n",
    "plt.title(\"Top 10 Most hit years\")\n",
    "plt.ylabel(\"Total Affected\")\n",
    "plt.xlabel(\"Year\")"
   ],
   "outputs": [
    {
     "data": {
      "text/plain": [
       "Text(0.5, 0, 'Year')"
      ]
     },
     "execution_count": 20,
     "metadata": {},
     "output_type": "execute_result"
    },
    {
     "data": {
      "text/plain": [
       "<Figure size 640x480 with 1 Axes>"
      ],
      "image/png": "[encoded data removed]"
     },
     "metadata": {},
     "output_type": "display_data"
    }
   ],
   "execution_count": 20
  },
  {
   "cell_type": "code",
   "id": "04981fb0",
   "metadata": {
    "ExecuteTime": {
     "end_time": "2025-06-03T06:43:49.143200Z",
     "start_time": "2025-06-03T06:43:49.119446Z"
    }
   },
   "source": [
    "#to check the total no of of homeless by country\n",
    "#list of total affected  contries arranged in descending order\n",
    "group_country=df.groupby(by=\"Country\")\n",
    "top_affect=group_country[\"No. Homeless\"].sum().reset_index()\n",
    "df_sorted=top_affect.sort_values(\"No. Homeless\",ascending=False)\n",
    "df_sorted"
   ],
   "outputs": [
    {
     "data": {
      "text/plain": [
       "                             Country  No. Homeless\n",
       "29                             Niger        632608\n",
       "34                           Somalia        220000\n",
       "27                        Mozambique         77150\n",
       "40       United Republic of Tanzania         36875\n",
       "3                       Burkina Faso         23500\n",
       "39                            Uganda         20400\n",
       "12  Democratic Republic of the Congo         16243\n",
       "37                             Sudan         11300\n",
       "6                           Cameroon         10279\n",
       "1                             Angola          9280\n",
       "30                           Nigeria          7700\n",
       "17                             Ghana          5000\n",
       "11                     Côte d’Ivoire          2712\n",
       "0                            Algeria          1750\n",
       "24                              Mali          1735\n",
       "4                            Burundi          1500\n",
       "31                            Rwanda          1055\n",
       "25                        Mauritania           700\n",
       "2                           Botswana             0\n",
       "10                             Congo             0\n",
       "9                               Chad             0\n",
       "8           Central African Republic             0\n",
       "7                     Canary Islands             0\n",
       "5                         Cabo Verde             0\n",
       "15                          Ethiopia             0\n",
       "14                             Egypt             0\n",
       "13                          Djibouti             0\n",
       "26                           Morocco             0\n",
       "23                            Malawi             0\n",
       "21                             Libya             0\n",
       "22                        Madagascar             0\n",
       "20                           Liberia             0\n",
       "19                             Kenya             0\n",
       "16                            Gambia             0\n",
       "18                            Guinea             0\n",
       "33                      Sierra Leone             0\n",
       "32                           Senegal             0\n",
       "28                           Namibia             0\n",
       "35                      South Africa             0\n",
       "38                              Togo             0\n",
       "36                       South Sudan             0\n",
       "41                            Zambia             0\n",
       "42                          Zimbabwe             0"
      ],
      "text/html": [
       "<div>\n",
       "<style scoped>\n",
       "    .dataframe tbody tr th:only-of-type {\n",
       "        vertical-align: middle;\n",
       "    }\n",
       "\n",
       "    .dataframe tbody tr th {\n",
       "        vertical-align: top;\n",
       "    }\n",
       "\n",
       "    .dataframe thead th {\n",
       "        text-align: right;\n",
       "    }\n",
       "</style>\n",
       "<table border=\"1\" class=\"dataframe\">\n",
       "  <thead>\n",
       "    <tr style=\"text-align: right;\">\n",
       "      <th></th>\n",
       "      <th>Country</th>\n",
       "      <th>No. Homeless</th>\n",
       "    </tr>\n",
       "  </thead>\n",
       "  <tbody>\n",
       "    <tr>\n",
       "      <th>29</th>\n",
       "      <td>Niger</td>\n",
       "      <td>632608</td>\n",
       "    </tr>\n",
       "    <tr>\n",
       "      <th>34</th>\n",
       "      <td>Somalia</td>\n",
       "      <td>220000</td>\n",
       "    </tr>\n",
       "    <tr>\n",
       "      <th>27</th>\n",
       "      <td>Mozambique</td>\n",
       "      <td>77150</td>\n",
       "    </tr>\n",
       "    <tr>\n",
       "      <th>40</th>\n",
       "      <td>United Republic of Tanzania</td>\n",
       "      <td>36875</td>\n",
       "    </tr>\n",
       "    <tr>\n",
       "      <th>3</th>\n",
       "      <td>Burkina Faso</td>\n",
       "      <td>23500</td>\n",
       "    </tr>\n",
       "    <tr>\n",
       "      <th>39</th>\n",
       "      <td>Uganda</td>\n",
       "      <td>20400</td>\n",
       "    </tr>\n",
       "    <tr>\n",
       "      <th>12</th>\n",
       "      <td>Democratic Republic of the Congo</td>\n",
       "      <td>16243</td>\n",
       "    </tr>\n",
       "    <tr>\n",
       "      <th>37</th>\n",
       "      <td>Sudan</td>\n",
       "      <td>11300</td>\n",
       "    </tr>\n",
       "    <tr>\n",
       "      <th>6</th>\n",
       "      <td>Cameroon</td>\n",
       "      <td>10279</td>\n",
       "    </tr>\n",
       "    <tr>\n",
       "      <th>1</th>\n",
       "      <td>Angola</td>\n",
       "      <td>9280</td>\n",
       "    </tr>\n",
       "    <tr>\n",
       "      <th>30</th>\n",
       "      <td>Nigeria</td>\n",
       "      <td>7700</td>\n",
       "    </tr>\n",
       "    <tr>\n",
       "      <th>17</th>\n",
       "      <td>Ghana</td>\n",
       "      <td>5000</td>\n",
       "    </tr>\n",
       "    <tr>\n",
       "      <th>11</th>\n",
       "      <td>Côte d’Ivoire</td>\n",
       "      <td>2712</td>\n",
       "    </tr>\n",
       "    <tr>\n",
       "      <th>0</th>\n",
       "      <td>Algeria</td>\n",
       "      <td>1750</td>\n",
       "    </tr>\n",
       "    <tr>\n",
       "      <th>24</th>\n",
       "      <td>Mali</td>\n",
       "      <td>1735</td>\n",
       "    </tr>\n",
       "    <tr>\n",
       "      <th>4</th>\n",
       "      <td>Burundi</td>\n",
       "      <td>1500</td>\n",
       "    </tr>\n",
       "    <tr>\n",
       "      <th>31</th>\n",
       "      <td>Rwanda</td>\n",
       "      <td>1055</td>\n",
       "    </tr>\n",
       "    <tr>\n",
       "      <th>25</th>\n",
       "      <td>Mauritania</td>\n",
       "      <td>700</td>\n",
       "    </tr>\n",
       "    <tr>\n",
       "      <th>2</th>\n",
       "      <td>Botswana</td>\n",
       "      <td>0</td>\n",
       "    </tr>\n",
       "    <tr>\n",
       "      <th>10</th>\n",
       "      <td>Congo</td>\n",
       "      <td>0</td>\n",
       "    </tr>\n",
       "    <tr>\n",
       "      <th>9</th>\n",
       "      <td>Chad</td>\n",
       "      <td>0</td>\n",
       "    </tr>\n",
       "    <tr>\n",
       "      <th>8</th>\n",
       "      <td>Central African Republic</td>\n",
       "      <td>0</td>\n",
       "    </tr>\n",
       "    <tr>\n",
       "      <th>7</th>\n",
       "      <td>Canary Islands</td>\n",
       "      <td>0</td>\n",
       "    </tr>\n",
       "    <tr>\n",
       "      <th>5</th>\n",
       "      <td>Cabo Verde</td>\n",
       "      <td>0</td>\n",
       "    </tr>\n",
       "    <tr>\n",
       "      <th>15</th>\n",
       "      <td>Ethiopia</td>\n",
       "      <td>0</td>\n",
       "    </tr>\n",
       "    <tr>\n",
       "      <th>14</th>\n",
       "      <td>Egypt</td>\n",
       "      <td>0</td>\n",
       "    </tr>\n",
       "    <tr>\n",
       "      <th>13</th>\n",
       "      <td>Djibouti</td>\n",
       "      <td>0</td>\n",
       "    </tr>\n",
       "    <tr>\n",
       "      <th>26</th>\n",
       "      <td>Morocco</td>\n",
       "      <td>0</td>\n",
       "    </tr>\n",
       "    <tr>\n",
       "      <th>23</th>\n",
       "      <td>Malawi</td>\n",
       "      <td>0</td>\n",
       "    </tr>\n",
       "    <tr>\n",
       "      <th>21</th>\n",
       "      <td>Libya</td>\n",
       "      <td>0</td>\n",
       "    </tr>\n",
       "    <tr>\n",
       "      <th>22</th>\n",
       "      <td>Madagascar</td>\n",
       "      <td>0</td>\n",
       "    </tr>\n",
       "    <tr>\n",
       "      <th>20</th>\n",
       "      <td>Liberia</td>\n",
       "      <td>0</td>\n",
       "    </tr>\n",
       "    <tr>\n",
       "      <th>19</th>\n",
       "      <td>Kenya</td>\n",
       "      <td>0</td>\n",
       "    </tr>\n",
       "    <tr>\n",
       "      <th>16</th>\n",
       "      <td>Gambia</td>\n",
       "      <td>0</td>\n",
       "    </tr>\n",
       "    <tr>\n",
       "      <th>18</th>\n",
       "      <td>Guinea</td>\n",
       "      <td>0</td>\n",
       "    </tr>\n",
       "    <tr>\n",
       "      <th>33</th>\n",
       "      <td>Sierra Leone</td>\n",
       "      <td>0</td>\n",
       "    </tr>\n",
       "    <tr>\n",
       "      <th>32</th>\n",
       "      <td>Senegal</td>\n",
       "      <td>0</td>\n",
       "    </tr>\n",
       "    <tr>\n",
       "      <th>28</th>\n",
       "      <td>Namibia</td>\n",
       "      <td>0</td>\n",
       "    </tr>\n",
       "    <tr>\n",
       "      <th>35</th>\n",
       "      <td>South Africa</td>\n",
       "      <td>0</td>\n",
       "    </tr>\n",
       "    <tr>\n",
       "      <th>38</th>\n",
       "      <td>Togo</td>\n",
       "      <td>0</td>\n",
       "    </tr>\n",
       "    <tr>\n",
       "      <th>36</th>\n",
       "      <td>South Sudan</td>\n",
       "      <td>0</td>\n",
       "    </tr>\n",
       "    <tr>\n",
       "      <th>41</th>\n",
       "      <td>Zambia</td>\n",
       "      <td>0</td>\n",
       "    </tr>\n",
       "    <tr>\n",
       "      <th>42</th>\n",
       "      <td>Zimbabwe</td>\n",
       "      <td>0</td>\n",
       "    </tr>\n",
       "  </tbody>\n",
       "</table>\n",
       "</div>"
      ]
     },
     "execution_count": 21,
     "metadata": {},
     "output_type": "execute_result"
    }
   ],
   "execution_count": 21
  },
  {
   "metadata": {
    "ExecuteTime": {
     "end_time": "2025-06-03T06:43:53.794699Z",
     "start_time": "2025-06-03T06:43:53.111184Z"
    }
   },
   "cell_type": "code",
   "source": "px.bar(data_frame=df_sorted,x=\"No. Homeless\",y=\"Country\")",
   "id": "3363605c7a1844dc",
   "outputs": [
    {
     "data": {
      "application/vnd.plotly.v1+json": {
       "data": [
        {
         "hovertemplate": "No. Homeless=%{x}<br>Country=%{y}<extra></extra>",
         "legendgroup": "",
         "marker": {
          "color": "#636efa",
          "pattern": {
           "shape": ""
          }
         },
         "name": "",
         "orientation": "h",
         "showlegend": false,
         "textposition": "auto",
         "x": {
          "dtype": "i4",
          "bdata": "IKcJAGBbAwBeLQEAC5AAAMxbAACwTwAAcz8AACQsAAAnKAAAQCQAABQeAACIEwAAmAoAANYGAADHBgAA3AUAAB8EAAC8AgAAAAAAAAAAAAAAAAAAAAAAAAAAAAAAAAAAAAAAAAAAAAAAAAAAAAAAAAAAAAAAAAAAAAAAAAAAAAAAAAAAAAAAAAAAAAAAAAAAAAAAAAAAAAAAAAAAAAAAAAAAAAAAAAAAAAAAAA=="
         },
         "xaxis": "x",
         "y": [
          "Niger",
          "Somalia",
          "Mozambique",
          "United Republic of Tanzania",
          "Burkina Faso",
          "Uganda",
          "Democratic Republic of the Congo",
          "Sudan",
          "Cameroon",
          "Angola",
          "Nigeria",
          "Ghana",
          "Côte d’Ivoire",
          "Algeria",
          "Mali",
          "Burundi",
          "Rwanda",
          "Mauritania",
          "Botswana",
          "Congo",
          "Chad",
          "Central African Republic",
          "Canary Islands",
          "Cabo Verde",
          "Ethiopia",
          "Egypt",
          "Djibouti",
          "Morocco",
          "Malawi",
          "Libya",
          "Madagascar",
          "Liberia",
          "Kenya",
          "Gambia",
          "Guinea",
          "Sierra Leone",
          "Senegal",
          "Namibia",
          "South Africa",
          "Togo",
          "South Sudan",
          "Zambia",
          "Zimbabwe"
         ],
         "yaxis": "y",
         "type": "bar"
        }
       ],
       "layout": {
        "template": {
         "data": {
          "histogram2dcontour": [
           {
            "type": "histogram2dcontour",
            "colorbar": {
             "outlinewidth": 0,
             "ticks": ""
            },
            "colorscale": [
             [
              0.0,
              "#0d0887"
             ],
             [
              0.1111111111111111,
              "#46039f"
             ],
             [
              0.2222222222222222,
              "#7201a8"
             ],
             [
              0.3333333333333333,
              "#9c179e"
             ],
             [
              0.4444444444444444,
              "#bd3786"
             ],
             [
              0.5555555555555556,
              "#d8576b"
             ],
             [
              0.6666666666666666,
              "#ed7953"
             ],
             [
              0.7777777777777778,
              "#fb9f3a"
             ],
             [
              0.8888888888888888,
              "#fdca26"
             ],
             [
              1.0,
              "#f0f921"
             ]
            ]
           }
          ],
          "choropleth": [
           {
            "type": "choropleth",
            "colorbar": {
             "outlinewidth": 0,
             "ticks": ""
            }
           }
          ],
          "histogram2d": [
           {
            "type": "histogram2d",
            "colorbar": {
             "outlinewidth": 0,
             "ticks": ""
            },
            "colorscale": [
             [
              0.0,
              "#0d0887"
             ],
             [
              0.1111111111111111,
              "#46039f"
             ],
             [
              0.2222222222222222,
              "#7201a8"
             ],
             [
              0.3333333333333333,
              "#9c179e"
             ],
             [
              0.4444444444444444,
              "#bd3786"
             ],
             [
              0.5555555555555556,
              "#d8576b"
             ],
             [
              0.6666666666666666,
              "#ed7953"
             ],
             [
              0.7777777777777778,
              "#fb9f3a"
             ],
             [
              0.8888888888888888,
              "#fdca26"
             ],
             [
              1.0,
              "#f0f921"
             ]
            ]
           }
          ],
          "heatmap": [
           {
            "type": "heatmap",
            "colorbar": {
             "outlinewidth": 0,
             "ticks": ""
            },
            "colorscale": [
             [
              0.0,
              "#0d0887"
             ],
             [
              0.1111111111111111,
              "#46039f"
             ],
             [
              0.2222222222222222,
              "#7201a8"
             ],
             [
              0.3333333333333333,
              "#9c179e"
             ],
             [
              0.4444444444444444,
              "#bd3786"
             ],
             [
              0.5555555555555556,
              "#d8576b"
             ],
             [
              0.6666666666666666,
              "#ed7953"
             ],
             [
              0.7777777777777778,
              "#fb9f3a"
             ],
             [
              0.8888888888888888,
              "#fdca26"
             ],
             [
              1.0,
              "#f0f921"
             ]
            ]
           }
          ],
          "contourcarpet": [
           {
            "type": "contourcarpet",
            "colorbar": {
             "outlinewidth": 0,
             "ticks": ""
            }
           }
          ],
          "contour": [
           {
            "type": "contour",
            "colorbar": {
             "outlinewidth": 0,
             "ticks": ""
            },
            "colorscale": [
             [
              0.0,
              "#0d0887"
             ],
             [
              0.1111111111111111,
              "#46039f"
             ],
             [
              0.2222222222222222,
              "#7201a8"
             ],
             [
              0.3333333333333333,
              "#9c179e"
             ],
             [
              0.4444444444444444,
              "#bd3786"
             ],
             [
              0.5555555555555556,
              "#d8576b"
             ],
             [
              0.6666666666666666,
              "#ed7953"
             ],
             [
              0.7777777777777778,
              "#fb9f3a"
             ],
             [
              0.8888888888888888,
              "#fdca26"
             ],
             [
              1.0,
              "#f0f921"
             ]
            ]
           }
          ],
          "surface": [
           {
            "type": "surface",
            "colorbar": {
             "outlinewidth": 0,
             "ticks": ""
            },
            "colorscale": [
             [
              0.0,
              "#0d0887"
             ],
             [
              0.1111111111111111,
              "#46039f"
             ],
             [
              0.2222222222222222,
              "#7201a8"
             ],
             [
              0.3333333333333333,
              "#9c179e"
             ],
             [
              0.4444444444444444,
              "#bd3786"
             ],
             [
              0.5555555555555556,
              "#d8576b"
             ],
             [
              0.6666666666666666,
              "#ed7953"
             ],
             [
              0.7777777777777778,
              "#fb9f3a"
             ],
             [
              0.8888888888888888,
              "#fdca26"
             ],
             [
              1.0,
              "#f0f921"
             ]
            ]
           }
          ],
          "mesh3d": [
           {
            "type": "mesh3d",
            "colorbar": {
             "outlinewidth": 0,
             "ticks": ""
            }
           }
          ],
          "scatter": [
           {
            "marker": {
             "line": {
              "color": "#283442"
             }
            },
            "type": "scatter"
           }
          ],
          "parcoords": [
           {
            "type": "parcoords",
            "line": {
             "colorbar": {
              "outlinewidth": 0,
              "ticks": ""
             }
            }
           }
          ],
          "scatterpolargl": [
           {
            "type": "scatterpolargl",
            "marker": {
             "colorbar": {
              "outlinewidth": 0,
              "ticks": ""
             }
            }
           }
          ],
          "bar": [
           {
            "error_x": {
             "color": "#f2f5fa"
            },
            "error_y": {
             "color": "#f2f5fa"
            },
            "marker": {
             "line": {
              "color": "rgb(17,17,17)",
              "width": 0.5
             },
             "pattern": {
              "fillmode": "overlay",
              "size": 10,
              "solidity": 0.2
             }
            },
            "type": "bar"
           }
          ],
          "scattergeo": [
           {
            "type": "scattergeo",
            "marker": {
             "colorbar": {
              "outlinewidth": 0,
              "ticks": ""
             }
            }
           }
          ],
          "scatterpolar": [
           {
            "type": "scatterpolar",
            "marker": {
             "colorbar": {
              "outlinewidth": 0,
              "ticks": ""
             }
            }
           }
          ],
          "histogram": [
           {
            "marker": {
             "pattern": {
              "fillmode": "overlay",
              "size": 10,
              "solidity": 0.2
             }
            },
            "type": "histogram"
           }
          ],
          "scattergl": [
           {
            "marker": {
             "line": {
              "color": "#283442"
             }
            },
            "type": "scattergl"
           }
          ],
          "scatter3d": [
           {
            "type": "scatter3d",
            "line": {
             "colorbar": {
              "outlinewidth": 0,
              "ticks": ""
             }
            },
            "marker": {
             "colorbar": {
              "outlinewidth": 0,
              "ticks": ""
             }
            }
           }
          ],
          "scattermap": [
           {
            "type": "scattermap",
            "marker": {
             "colorbar": {
              "outlinewidth": 0,
              "ticks": ""
             }
            }
           }
          ],
          "scattermapbox": [
           {
            "type": "scattermapbox",
            "marker": {
             "colorbar": {
              "outlinewidth": 0,
              "ticks": ""
             }
            }
           }
          ],
          "scatterternary": [
           {
            "type": "scatterternary",
            "marker": {
             "colorbar": {
              "outlinewidth": 0,
              "ticks": ""
             }
            }
           }
          ],
          "scattercarpet": [
           {
            "type": "scattercarpet",
            "marker": {
             "colorbar": {
              "outlinewidth": 0,
              "ticks": ""
             }
            }
           }
          ],
          "carpet": [
           {
            "aaxis": {
             "endlinecolor": "#A2B1C6",
             "gridcolor": "#506784",
             "linecolor": "#506784",
             "minorgridcolor": "#506784",
             "startlinecolor": "#A2B1C6"
            },
            "baxis": {
             "endlinecolor": "#A2B1C6",
             "gridcolor": "#506784",
             "linecolor": "#506784",
             "minorgridcolor": "#506784",
             "startlinecolor": "#A2B1C6"
            },
            "type": "carpet"
           }
          ],
          "table": [
           {
            "cells": {
             "fill": {
              "color": "#506784"
             },
             "line": {
              "color": "rgb(17,17,17)"
             }
            },
            "header": {
             "fill": {
              "color": "#2a3f5f"
             },
             "line": {
              "color": "rgb(17,17,17)"
             }
            },
            "type": "table"
           }
          ],
          "barpolar": [
           {
            "marker": {
             "line": {
              "color": "rgb(17,17,17)",
              "width": 0.5
             },
             "pattern": {
              "fillmode": "overlay",
              "size": 10,
              "solidity": 0.2
             }
            },
            "type": "barpolar"
           }
          ],
          "pie": [
           {
            "automargin": true,
            "type": "pie"
           }
          ]
         },
         "layout": {
          "autotypenumbers": "strict",
          "colorway": [
           "#636efa",
           "#EF553B",
           "#00cc96",
           "#ab63fa",
           "#FFA15A",
           "#19d3f3",
           "#FF6692",
           "#B6E880",
           "#FF97FF",
           "#FECB52"
          ],
          "font": {
           "color": "#f2f5fa"
          },
          "hovermode": "closest",
          "hoverlabel": {
           "align": "left"
          },
          "paper_bgcolor": "rgb(17,17,17)",
          "plot_bgcolor": "rgb(17,17,17)",
          "polar": {
           "bgcolor": "rgb(17,17,17)",
           "angularaxis": {
            "gridcolor": "#506784",
            "linecolor": "#506784",
            "ticks": ""
           },
           "radialaxis": {
            "gridcolor": "#506784",
            "linecolor": "#506784",
            "ticks": ""
           }
          },
          "ternary": {
           "bgcolor": "rgb(17,17,17)",
           "aaxis": {
            "gridcolor": "#506784",
            "linecolor": "#506784",
            "ticks": ""
           },
           "baxis": {
            "gridcolor": "#506784",
            "linecolor": "#506784",
            "ticks": ""
           },
           "caxis": {
            "gridcolor": "#506784",
            "linecolor": "#506784",
            "ticks": ""
           }
          },
          "coloraxis": {
           "colorbar": {
            "outlinewidth": 0,
            "ticks": ""
           }
          },
          "colorscale": {
           "sequential": [
            [
             0.0,
             "#0d0887"
            ],
            [
             0.1111111111111111,
             "#46039f"
            ],
            [
             0.2222222222222222,
             "#7201a8"
            ],
            [
             0.3333333333333333,
             "#9c179e"
            ],
            [
             0.4444444444444444,
             "#bd3786"
            ],
            [
             0.5555555555555556,
             "#d8576b"
            ],
            [
             0.6666666666666666,
             "#ed7953"
            ],
            [
             0.7777777777777778,
             "#fb9f3a"
            ],
            [
             0.8888888888888888,
             "#fdca26"
            ],
            [
             1.0,
             "#f0f921"
            ]
           ],
           "sequentialminus": [
            [
             0.0,
             "#0d0887"
            ],
            [
             0.1111111111111111,
             "#46039f"
            ],
            [
             0.2222222222222222,
             "#7201a8"
            ],
            [
             0.3333333333333333,
             "#9c179e"
            ],
            [
             0.4444444444444444,
             "#bd3786"
            ],
            [
             0.5555555555555556,
             "#d8576b"
            ],
            [
             0.6666666666666666,
             "#ed7953"
            ],
            [
             0.7777777777777778,
             "#fb9f3a"
            ],
            [
             0.8888888888888888,
             "#fdca26"
            ],
            [
             1.0,
             "#f0f921"
            ]
           ],
           "diverging": [
            [
             0,
             "#8e0152"
            ],
            [
             0.1,
             "#c51b7d"
            ],
            [
             0.2,
             "#de77ae"
            ],
            [
             0.3,
             "#f1b6da"
            ],
            [
             0.4,
             "#fde0ef"
            ],
            [
             0.5,
             "#f7f7f7"
            ],
            [
             0.6,
             "#e6f5d0"
            ],
            [
             0.7,
             "#b8e186"
            ],
            [
             0.8,
             "#7fbc41"
            ],
            [
             0.9,
             "#4d9221"
            ],
            [
             1,
             "#276419"
            ]
           ]
          },
          "xaxis": {
           "gridcolor": "#283442",
           "linecolor": "#506784",
           "ticks": "",
           "title": {
            "standoff": 15
           },
           "zerolinecolor": "#283442",
           "automargin": true,
           "zerolinewidth": 2
          },
          "yaxis": {
           "gridcolor": "#283442",
           "linecolor": "#506784",
           "ticks": "",
           "title": {
            "standoff": 15
           },
           "zerolinecolor": "#283442",
           "automargin": true,
           "zerolinewidth": 2
          },
          "scene": {
           "xaxis": {
            "backgroundcolor": "rgb(17,17,17)",
            "gridcolor": "#506784",
            "linecolor": "#506784",
            "showbackground": true,
            "ticks": "",
            "zerolinecolor": "#C8D4E3",
            "gridwidth": 2
           },
           "yaxis": {
            "backgroundcolor": "rgb(17,17,17)",
            "gridcolor": "#506784",
            "linecolor": "#506784",
            "showbackground": true,
            "ticks": "",
            "zerolinecolor": "#C8D4E3",
            "gridwidth": 2
           },
           "zaxis": {
            "backgroundcolor": "rgb(17,17,17)",
            "gridcolor": "#506784",
            "linecolor": "#506784",
            "showbackground": true,
            "ticks": "",
            "zerolinecolor": "#C8D4E3",
            "gridwidth": 2
           }
          },
          "shapedefaults": {
           "line": {
            "color": "#f2f5fa"
           }
          },
          "annotationdefaults": {
           "arrowcolor": "#f2f5fa",
           "arrowhead": 0,
           "arrowwidth": 1
          },
          "geo": {
           "bgcolor": "rgb(17,17,17)",
           "landcolor": "rgb(17,17,17)",
           "subunitcolor": "#506784",
           "showland": true,
           "showlakes": true,
           "lakecolor": "rgb(17,17,17)"
          },
          "title": {
           "x": 0.05
          },
          "updatemenudefaults": {
           "bgcolor": "#506784",
           "borderwidth": 0
          },
          "sliderdefaults": {
           "bgcolor": "#C8D4E3",
           "borderwidth": 1,
           "bordercolor": "rgb(17,17,17)",
           "tickwidth": 0
          },
          "mapbox": {
           "style": "dark"
          }
         }
        },
        "xaxis": {
         "anchor": "y",
         "domain": [
          0.0,
          1.0
         ],
         "title": {
          "text": "No. Homeless"
         }
        },
        "yaxis": {
         "anchor": "x",
         "domain": [
          0.0,
          1.0
         ],
         "title": {
          "text": "Country"
         }
        },
        "legend": {
         "tracegroupgap": 0
        },
        "margin": {
         "t": 60
        },
        "barmode": "relative"
       },
       "config": {
        "plotlyServerURL": "https://plot.ly"
       }
      }
     },
     "metadata": {},
     "output_type": "display_data"
    }
   ],
   "execution_count": 22
  },
  {
   "metadata": {
    "ExecuteTime": {
     "end_time": "2025-06-03T06:43:56.348820Z",
     "start_time": "2025-06-03T06:43:56.318006Z"
    }
   },
   "cell_type": "code",
   "source": [
    "#to check the total no of of homeless by country\n",
    "#list of total affected  contries arranged in descending order\n",
    "group_country=df.groupby(by=\"Country\")\n",
    "top_affect=group_country[\"Total Deaths\"].sum().reset_index()\n",
    "df_sorted=top_affect.sort_values(\"Total Deaths\",ascending=False)\n",
    "df_sorted"
   ],
   "id": "9ca911ac5e84b8d9",
   "outputs": [
    {
     "data": {
      "text/plain": [
       "                             Country  Total Deaths\n",
       "30                           Nigeria           560\n",
       "19                             Kenya           460\n",
       "29                             Niger           279\n",
       "12  Democratic Republic of the Congo           275\n",
       "37                             Sudan           178\n",
       "27                        Mozambique           174\n",
       "31                            Rwanda           168\n",
       "40       United Republic of Tanzania           154\n",
       "35                      South Africa           108\n",
       "17                             Ghana            95\n",
       "4                            Burundi            91\n",
       "39                            Uganda            82\n",
       "11                     Côte d’Ivoire            76\n",
       "23                            Malawi            73\n",
       "15                          Ethiopia            72\n",
       "1                             Angola            68\n",
       "22                        Madagascar            49\n",
       "25                        Mauritania            37\n",
       "24                              Mali            35\n",
       "0                            Algeria            35\n",
       "34                           Somalia            26\n",
       "26                           Morocco            23\n",
       "32                           Senegal            22\n",
       "10                             Congo            20\n",
       "3                       Burkina Faso            15\n",
       "14                             Egypt            14\n",
       "42                          Zimbabwe            13\n",
       "41                            Zambia            12\n",
       "6                           Cameroon            12\n",
       "38                              Togo            11\n",
       "33                      Sierra Leone            10\n",
       "18                            Guinea             9\n",
       "13                          Djibouti             8\n",
       "7                     Canary Islands             7\n",
       "16                            Gambia             7\n",
       "21                             Libya             4\n",
       "9                               Chad             3\n",
       "5                         Cabo Verde             1\n",
       "2                           Botswana             0\n",
       "8           Central African Republic             0\n",
       "20                           Liberia             0\n",
       "28                           Namibia             0\n",
       "36                       South Sudan             0"
      ],
      "text/html": [
       "<div>\n",
       "<style scoped>\n",
       "    .dataframe tbody tr th:only-of-type {\n",
       "        vertical-align: middle;\n",
       "    }\n",
       "\n",
       "    .dataframe tbody tr th {\n",
       "        vertical-align: top;\n",
       "    }\n",
       "\n",
       "    .dataframe thead th {\n",
       "        text-align: right;\n",
       "    }\n",
       "</style>\n",
       "<table border=\"1\" class=\"dataframe\">\n",
       "  <thead>\n",
       "    <tr style=\"text-align: right;\">\n",
       "      <th></th>\n",
       "      <th>Country</th>\n",
       "      <th>Total Deaths</th>\n",
       "    </tr>\n",
       "  </thead>\n",
       "  <tbody>\n",
       "    <tr>\n",
       "      <th>30</th>\n",
       "      <td>Nigeria</td>\n",
       "      <td>560</td>\n",
       "    </tr>\n",
       "    <tr>\n",
       "      <th>19</th>\n",
       "      <td>Kenya</td>\n",
       "      <td>460</td>\n",
       "    </tr>\n",
       "    <tr>\n",
       "      <th>29</th>\n",
       "      <td>Niger</td>\n",
       "      <td>279</td>\n",
       "    </tr>\n",
       "    <tr>\n",
       "      <th>12</th>\n",
       "      <td>Democratic Republic of the Congo</td>\n",
       "      <td>275</td>\n",
       "    </tr>\n",
       "    <tr>\n",
       "      <th>37</th>\n",
       "      <td>Sudan</td>\n",
       "      <td>178</td>\n",
       "    </tr>\n",
       "    <tr>\n",
       "      <th>27</th>\n",
       "      <td>Mozambique</td>\n",
       "      <td>174</td>\n",
       "    </tr>\n",
       "    <tr>\n",
       "      <th>31</th>\n",
       "      <td>Rwanda</td>\n",
       "      <td>168</td>\n",
       "    </tr>\n",
       "    <tr>\n",
       "      <th>40</th>\n",
       "      <td>United Republic of Tanzania</td>\n",
       "      <td>154</td>\n",
       "    </tr>\n",
       "    <tr>\n",
       "      <th>35</th>\n",
       "      <td>South Africa</td>\n",
       "      <td>108</td>\n",
       "    </tr>\n",
       "    <tr>\n",
       "      <th>17</th>\n",
       "      <td>Ghana</td>\n",
       "      <td>95</td>\n",
       "    </tr>\n",
       "    <tr>\n",
       "      <th>4</th>\n",
       "      <td>Burundi</td>\n",
       "      <td>91</td>\n",
       "    </tr>\n",
       "    <tr>\n",
       "      <th>39</th>\n",
       "      <td>Uganda</td>\n",
       "      <td>82</td>\n",
       "    </tr>\n",
       "    <tr>\n",
       "      <th>11</th>\n",
       "      <td>Côte d’Ivoire</td>\n",
       "      <td>76</td>\n",
       "    </tr>\n",
       "    <tr>\n",
       "      <th>23</th>\n",
       "      <td>Malawi</td>\n",
       "      <td>73</td>\n",
       "    </tr>\n",
       "    <tr>\n",
       "      <th>15</th>\n",
       "      <td>Ethiopia</td>\n",
       "      <td>72</td>\n",
       "    </tr>\n",
       "    <tr>\n",
       "      <th>1</th>\n",
       "      <td>Angola</td>\n",
       "      <td>68</td>\n",
       "    </tr>\n",
       "    <tr>\n",
       "      <th>22</th>\n",
       "      <td>Madagascar</td>\n",
       "      <td>49</td>\n",
       "    </tr>\n",
       "    <tr>\n",
       "      <th>25</th>\n",
       "      <td>Mauritania</td>\n",
       "      <td>37</td>\n",
       "    </tr>\n",
       "    <tr>\n",
       "      <th>24</th>\n",
       "      <td>Mali</td>\n",
       "      <td>35</td>\n",
       "    </tr>\n",
       "    <tr>\n",
       "      <th>0</th>\n",
       "      <td>Algeria</td>\n",
       "      <td>35</td>\n",
       "    </tr>\n",
       "    <tr>\n",
       "      <th>34</th>\n",
       "      <td>Somalia</td>\n",
       "      <td>26</td>\n",
       "    </tr>\n",
       "    <tr>\n",
       "      <th>26</th>\n",
       "      <td>Morocco</td>\n",
       "      <td>23</td>\n",
       "    </tr>\n",
       "    <tr>\n",
       "      <th>32</th>\n",
       "      <td>Senegal</td>\n",
       "      <td>22</td>\n",
       "    </tr>\n",
       "    <tr>\n",
       "      <th>10</th>\n",
       "      <td>Congo</td>\n",
       "      <td>20</td>\n",
       "    </tr>\n",
       "    <tr>\n",
       "      <th>3</th>\n",
       "      <td>Burkina Faso</td>\n",
       "      <td>15</td>\n",
       "    </tr>\n",
       "    <tr>\n",
       "      <th>14</th>\n",
       "      <td>Egypt</td>\n",
       "      <td>14</td>\n",
       "    </tr>\n",
       "    <tr>\n",
       "      <th>42</th>\n",
       "      <td>Zimbabwe</td>\n",
       "      <td>13</td>\n",
       "    </tr>\n",
       "    <tr>\n",
       "      <th>41</th>\n",
       "      <td>Zambia</td>\n",
       "      <td>12</td>\n",
       "    </tr>\n",
       "    <tr>\n",
       "      <th>6</th>\n",
       "      <td>Cameroon</td>\n",
       "      <td>12</td>\n",
       "    </tr>\n",
       "    <tr>\n",
       "      <th>38</th>\n",
       "      <td>Togo</td>\n",
       "      <td>11</td>\n",
       "    </tr>\n",
       "    <tr>\n",
       "      <th>33</th>\n",
       "      <td>Sierra Leone</td>\n",
       "      <td>10</td>\n",
       "    </tr>\n",
       "    <tr>\n",
       "      <th>18</th>\n",
       "      <td>Guinea</td>\n",
       "      <td>9</td>\n",
       "    </tr>\n",
       "    <tr>\n",
       "      <th>13</th>\n",
       "      <td>Djibouti</td>\n",
       "      <td>8</td>\n",
       "    </tr>\n",
       "    <tr>\n",
       "      <th>7</th>\n",
       "      <td>Canary Islands</td>\n",
       "      <td>7</td>\n",
       "    </tr>\n",
       "    <tr>\n",
       "      <th>16</th>\n",
       "      <td>Gambia</td>\n",
       "      <td>7</td>\n",
       "    </tr>\n",
       "    <tr>\n",
       "      <th>21</th>\n",
       "      <td>Libya</td>\n",
       "      <td>4</td>\n",
       "    </tr>\n",
       "    <tr>\n",
       "      <th>9</th>\n",
       "      <td>Chad</td>\n",
       "      <td>3</td>\n",
       "    </tr>\n",
       "    <tr>\n",
       "      <th>5</th>\n",
       "      <td>Cabo Verde</td>\n",
       "      <td>1</td>\n",
       "    </tr>\n",
       "    <tr>\n",
       "      <th>2</th>\n",
       "      <td>Botswana</td>\n",
       "      <td>0</td>\n",
       "    </tr>\n",
       "    <tr>\n",
       "      <th>8</th>\n",
       "      <td>Central African Republic</td>\n",
       "      <td>0</td>\n",
       "    </tr>\n",
       "    <tr>\n",
       "      <th>20</th>\n",
       "      <td>Liberia</td>\n",
       "      <td>0</td>\n",
       "    </tr>\n",
       "    <tr>\n",
       "      <th>28</th>\n",
       "      <td>Namibia</td>\n",
       "      <td>0</td>\n",
       "    </tr>\n",
       "    <tr>\n",
       "      <th>36</th>\n",
       "      <td>South Sudan</td>\n",
       "      <td>0</td>\n",
       "    </tr>\n",
       "  </tbody>\n",
       "</table>\n",
       "</div>"
      ]
     },
     "execution_count": 23,
     "metadata": {},
     "output_type": "execute_result"
    }
   ],
   "execution_count": 23
  },
  {
   "metadata": {
    "ExecuteTime": {
     "end_time": "2025-06-03T06:44:03.097265Z",
     "start_time": "2025-06-03T06:44:02.690670Z"
    }
   },
   "cell_type": "code",
   "source": [
    "#top ten most injured\n",
    "df.nlargest(10,\"No. Injured\").plot(kind=\"bar\",x=\"Country\",y=\"No. Injured\",color=\"pink\")\n",
    "plt.title(\"Top 10 Most hit countrys\")\n",
    "plt.ylabel(\"No. Injured\")\n",
    "plt.xlabel(\"Year\")"
   ],
   "id": "ac9d082a544c1ae5",
   "outputs": [
    {
     "data": {
      "text/plain": [
       "Text(0.5, 0, 'Year')"
      ]
     },
     "execution_count": 24,
     "metadata": {},
     "output_type": "execute_result"
    },
    {
     "data": {
      "text/plain": [
       "<Figure size 640x480 with 1 Axes>"
      ],
      "image/png": "[encoded data removed]"
     },
     "metadata": {},
     "output_type": "display_data"
    }
   ],
   "execution_count": 24
  },
  {
   "metadata": {
    "ExecuteTime": {
     "end_time": "2025-06-03T06:44:06.405643Z",
     "start_time": "2025-06-03T06:44:06.381931Z"
    }
   },
   "cell_type": "code",
   "source": [
    "#to check the total no of of homeless by country\n",
    "#list of total affected  contries arranged in descending order\n",
    "group_country=df.groupby(by=\"Country\")\n",
    "top_affect=group_country[\"No. Injured\"].sum().reset_index()\n",
    "df_sorted=top_affect.sort_values(\"No. Injured\",ascending=False)\n",
    "df_sorted"
   ],
   "id": "dc89583a696a43ff",
   "outputs": [
    {
     "data": {
      "text/plain": [
       "                             Country  No. Injured\n",
       "30                           Nigeria         2302\n",
       "23                            Malawi          672\n",
       "32                           Senegal          155\n",
       "3                       Burkina Faso          111\n",
       "12  Democratic Republic of the Congo          101\n",
       "37                             Sudan           74\n",
       "14                             Egypt           70\n",
       "31                            Rwanda           68\n",
       "27                        Mozambique           66\n",
       "11                     Côte d’Ivoire           64\n",
       "4                            Burundi           58\n",
       "18                            Guinea           47\n",
       "29                             Niger           42\n",
       "19                             Kenya           33\n",
       "21                             Libya           30\n",
       "26                           Morocco           29\n",
       "40       United Republic of Tanzania           26\n",
       "0                            Algeria           20\n",
       "34                           Somalia           20\n",
       "17                             Ghana           19\n",
       "6                           Cameroon           17\n",
       "1                             Angola           11\n",
       "24                              Mali            2\n",
       "5                         Cabo Verde            0\n",
       "2                           Botswana            0\n",
       "8           Central African Republic            0\n",
       "7                     Canary Islands            0\n",
       "10                             Congo            0\n",
       "9                               Chad            0\n",
       "25                        Mauritania            0\n",
       "22                        Madagascar            0\n",
       "16                            Gambia            0\n",
       "13                          Djibouti            0\n",
       "20                           Liberia            0\n",
       "15                          Ethiopia            0\n",
       "33                      Sierra Leone            0\n",
       "28                           Namibia            0\n",
       "36                       South Sudan            0\n",
       "35                      South Africa            0\n",
       "38                              Togo            0\n",
       "39                            Uganda            0\n",
       "41                            Zambia            0\n",
       "42                          Zimbabwe            0"
      ],
      "text/html": [
       "<div>\n",
       "<style scoped>\n",
       "    .dataframe tbody tr th:only-of-type {\n",
       "        vertical-align: middle;\n",
       "    }\n",
       "\n",
       "    .dataframe tbody tr th {\n",
       "        vertical-align: top;\n",
       "    }\n",
       "\n",
       "    .dataframe thead th {\n",
       "        text-align: right;\n",
       "    }\n",
       "</style>\n",
       "<table border=\"1\" class=\"dataframe\">\n",
       "  <thead>\n",
       "    <tr style=\"text-align: right;\">\n",
       "      <th></th>\n",
       "      <th>Country</th>\n",
       "      <th>No. Injured</th>\n",
       "    </tr>\n",
       "  </thead>\n",
       "  <tbody>\n",
       "    <tr>\n",
       "      <th>30</th>\n",
       "      <td>Nigeria</td>\n",
       "      <td>2302</td>\n",
       "    </tr>\n",
       "    <tr>\n",
       "      <th>23</th>\n",
       "      <td>Malawi</td>\n",
       "      <td>672</td>\n",
       "    </tr>\n",
       "    <tr>\n",
       "      <th>32</th>\n",
       "      <td>Senegal</td>\n",
       "      <td>155</td>\n",
       "    </tr>\n",
       "    <tr>\n",
       "      <th>3</th>\n",
       "      <td>Burkina Faso</td>\n",
       "      <td>111</td>\n",
       "    </tr>\n",
       "    <tr>\n",
       "      <th>12</th>\n",
       "      <td>Democratic Republic of the Congo</td>\n",
       "      <td>101</td>\n",
       "    </tr>\n",
       "    <tr>\n",
       "      <th>37</th>\n",
       "      <td>Sudan</td>\n",
       "      <td>74</td>\n",
       "    </tr>\n",
       "    <tr>\n",
       "      <th>14</th>\n",
       "      <td>Egypt</td>\n",
       "      <td>70</td>\n",
       "    </tr>\n",
       "    <tr>\n",
       "      <th>31</th>\n",
       "      <td>Rwanda</td>\n",
       "      <td>68</td>\n",
       "    </tr>\n",
       "    <tr>\n",
       "      <th>27</th>\n",
       "      <td>Mozambique</td>\n",
       "      <td>66</td>\n",
       "    </tr>\n",
       "    <tr>\n",
       "      <th>11</th>\n",
       "      <td>Côte d’Ivoire</td>\n",
       "      <td>64</td>\n",
       "    </tr>\n",
       "    <tr>\n",
       "      <th>4</th>\n",
       "      <td>Burundi</td>\n",
       "      <td>58</td>\n",
       "    </tr>\n",
       "    <tr>\n",
       "      <th>18</th>\n",
       "      <td>Guinea</td>\n",
       "      <td>47</td>\n",
       "    </tr>\n",
       "    <tr>\n",
       "      <th>29</th>\n",
       "      <td>Niger</td>\n",
       "      <td>42</td>\n",
       "    </tr>\n",
       "    <tr>\n",
       "      <th>19</th>\n",
       "      <td>Kenya</td>\n",
       "      <td>33</td>\n",
       "    </tr>\n",
       "    <tr>\n",
       "      <th>21</th>\n",
       "      <td>Libya</td>\n",
       "      <td>30</td>\n",
       "    </tr>\n",
       "    <tr>\n",
       "      <th>26</th>\n",
       "      <td>Morocco</td>\n",
       "      <td>29</td>\n",
       "    </tr>\n",
       "    <tr>\n",
       "      <th>40</th>\n",
       "      <td>United Republic of Tanzania</td>\n",
       "      <td>26</td>\n",
       "    </tr>\n",
       "    <tr>\n",
       "      <th>0</th>\n",
       "      <td>Algeria</td>\n",
       "      <td>20</td>\n",
       "    </tr>\n",
       "    <tr>\n",
       "      <th>34</th>\n",
       "      <td>Somalia</td>\n",
       "      <td>20</td>\n",
       "    </tr>\n",
       "    <tr>\n",
       "      <th>17</th>\n",
       "      <td>Ghana</td>\n",
       "      <td>19</td>\n",
       "    </tr>\n",
       "    <tr>\n",
       "      <th>6</th>\n",
       "      <td>Cameroon</td>\n",
       "      <td>17</td>\n",
       "    </tr>\n",
       "    <tr>\n",
       "      <th>1</th>\n",
       "      <td>Angola</td>\n",
       "      <td>11</td>\n",
       "    </tr>\n",
       "    <tr>\n",
       "      <th>24</th>\n",
       "      <td>Mali</td>\n",
       "      <td>2</td>\n",
       "    </tr>\n",
       "    <tr>\n",
       "      <th>5</th>\n",
       "      <td>Cabo Verde</td>\n",
       "      <td>0</td>\n",
       "    </tr>\n",
       "    <tr>\n",
       "      <th>2</th>\n",
       "      <td>Botswana</td>\n",
       "      <td>0</td>\n",
       "    </tr>\n",
       "    <tr>\n",
       "      <th>8</th>\n",
       "      <td>Central African Republic</td>\n",
       "      <td>0</td>\n",
       "    </tr>\n",
       "    <tr>\n",
       "      <th>7</th>\n",
       "      <td>Canary Islands</td>\n",
       "      <td>0</td>\n",
       "    </tr>\n",
       "    <tr>\n",
       "      <th>10</th>\n",
       "      <td>Congo</td>\n",
       "      <td>0</td>\n",
       "    </tr>\n",
       "    <tr>\n",
       "      <th>9</th>\n",
       "      <td>Chad</td>\n",
       "      <td>0</td>\n",
       "    </tr>\n",
       "    <tr>\n",
       "      <th>25</th>\n",
       "      <td>Mauritania</td>\n",
       "      <td>0</td>\n",
       "    </tr>\n",
       "    <tr>\n",
       "      <th>22</th>\n",
       "      <td>Madagascar</td>\n",
       "      <td>0</td>\n",
       "    </tr>\n",
       "    <tr>\n",
       "      <th>16</th>\n",
       "      <td>Gambia</td>\n",
       "      <td>0</td>\n",
       "    </tr>\n",
       "    <tr>\n",
       "      <th>13</th>\n",
       "      <td>Djibouti</td>\n",
       "      <td>0</td>\n",
       "    </tr>\n",
       "    <tr>\n",
       "      <th>20</th>\n",
       "      <td>Liberia</td>\n",
       "      <td>0</td>\n",
       "    </tr>\n",
       "    <tr>\n",
       "      <th>15</th>\n",
       "      <td>Ethiopia</td>\n",
       "      <td>0</td>\n",
       "    </tr>\n",
       "    <tr>\n",
       "      <th>33</th>\n",
       "      <td>Sierra Leone</td>\n",
       "      <td>0</td>\n",
       "    </tr>\n",
       "    <tr>\n",
       "      <th>28</th>\n",
       "      <td>Namibia</td>\n",
       "      <td>0</td>\n",
       "    </tr>\n",
       "    <tr>\n",
       "      <th>36</th>\n",
       "      <td>South Sudan</td>\n",
       "      <td>0</td>\n",
       "    </tr>\n",
       "    <tr>\n",
       "      <th>35</th>\n",
       "      <td>South Africa</td>\n",
       "      <td>0</td>\n",
       "    </tr>\n",
       "    <tr>\n",
       "      <th>38</th>\n",
       "      <td>Togo</td>\n",
       "      <td>0</td>\n",
       "    </tr>\n",
       "    <tr>\n",
       "      <th>39</th>\n",
       "      <td>Uganda</td>\n",
       "      <td>0</td>\n",
       "    </tr>\n",
       "    <tr>\n",
       "      <th>41</th>\n",
       "      <td>Zambia</td>\n",
       "      <td>0</td>\n",
       "    </tr>\n",
       "    <tr>\n",
       "      <th>42</th>\n",
       "      <td>Zimbabwe</td>\n",
       "      <td>0</td>\n",
       "    </tr>\n",
       "  </tbody>\n",
       "</table>\n",
       "</div>"
      ]
     },
     "execution_count": 25,
     "metadata": {},
     "output_type": "execute_result"
    }
   ],
   "execution_count": 25
  },
  {
   "metadata": {},
   "cell_type": "code",
   "outputs": [],
   "execution_count": null,
   "source": "",
   "id": "cdb4738d3cb44705"
  }
 ],
 "metadata": {
  "kernelspec": {
   "display_name": "Python 3 (ipykernel)",
   "language": "python",
   "name": "python3"
  },
  "language_info": {
   "codemirror_mode": {
    "name": "ipython",
    "version": 3
   },
   "file_extension": ".py",
   "mimetype": "text/x-python",
   "name": "python",
   "nbconvert_exporter": "python",
   "pygments_lexer": "ipython3",
   "version": "3.11.3"
  }
 },
 "nbformat": 4,
 "nbformat_minor": 5
}
